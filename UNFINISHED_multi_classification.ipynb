{
 "cells": [
  {
   "cell_type": "markdown",
   "id": "dd73bd3f-bec4-460a-9d99-4e84fa0accd2",
   "metadata": {},
   "source": [
    "## github рендерит ipynb с ошибками, поэтому используйте nbviewer:\n",
    "[https://nbviewer.org/github/StalSkyle/stars_classification/blob/main/UNFINISHED_multi_classification.ipynb?flush_cache=true](https://nbviewer.org/github/StalSkyle/stars_classification/blob/main/UNFINISHED_multi_classification.ipynb?flush_cache=true)"
   ]
  },
  {
   "cell_type": "code",
   "execution_count": 1,
   "id": "088658f6-846b-46f8-9224-895518759495",
   "metadata": {},
   "outputs": [
    {
     "name": "stdout",
     "output_type": "stream",
     "text": [
      "<class 'pandas.core.frame.DataFrame'>\n",
      "RangeIndex: 9750415 entries, 0 to 9750414\n",
      "Data columns (total 20 columns):\n",
      " #   Column    Dtype  \n",
      "---  ------    -----  \n",
      " 0   OID       int32  \n",
      " 1   n_OID     object \n",
      " 2   Name      object \n",
      " 3   V         uint8  \n",
      " 4   Type      object \n",
      " 5   l_max     object \n",
      " 6   max       float32\n",
      " 7   u_max     object \n",
      " 8   n_max     object \n",
      " 9   f_min     object \n",
      " 10  l_min     object \n",
      " 11  min       float32\n",
      " 12  u_min     object \n",
      " 13  n_min     object \n",
      " 14  l_Period  object \n",
      " 15  Period    float64\n",
      " 16  u_Period  object \n",
      " 17  Sp        object \n",
      " 18  RAJ2000   float64\n",
      " 19  DEJ2000   float64\n",
      "dtypes: float32(2), float64(3), int32(1), object(13), uint8(1)\n",
      "memory usage: 1.3+ GB\n"
     ]
    }
   ],
   "source": [
    "import pandas as pd\n",
    "import matplotlib.pyplot as plt\n",
    "import seaborn as sns\n",
    "from sklearn.preprocessing import LabelEncoder\n",
    "import numpy as np\n",
    "\n",
    "# ссылка на данные\n",
    "# https://drive.google.com/file/d/1wTkOoA222guACzvIJxLf4wU77Rykp1__/view?usp=sharing\n",
    "df = pd.read_parquet(\"./data/B_vsx_vsx.parquet\")\n",
    "pd.set_option(\"display.max_columns\", None)\n",
    "plt.rcParams[\"figure.figsize\"] = (16, 12)\n",
    "df.info()"
   ]
  },
  {
   "cell_type": "code",
   "execution_count": 2,
   "id": "b337a752-faf6-43c4-aadb-0d637aa52315",
   "metadata": {},
   "outputs": [],
   "source": [
    "def classify_type(vtype: str) -> str:\n",
    "    \"\"\"\n",
    "    Возвращает укрупнённый класс переменной звезды\n",
    "    в зависимости от содержимого строки vtype.\n",
    "    \"\"\"\n",
    "\n",
    "    if pd.isna(vtype) or not isinstance(vtype, str) or vtype.strip() == \"\":\n",
    "        return \"UNKNOWN\"\n",
    "\n",
    "    # Приведём к верхнему регистру для надёжного поиска подстрок\n",
    "    t = vtype.upper()\n",
    "\n",
    "    # --- 1) Затменные (Eclipsing Binaries) ---\n",
    "    ecl_markers = [\"EA\", \"EB\", \"EW\", \"EC\", \"ELL\", \"E/RS\", \"E|\", \"E \"]\n",
    "    if any(m in t for m in ecl_markers):\n",
    "        return \"ECLIPSING\"\n",
    "\n",
    "    # --- 2) Цефеиды и родственные (DCEP, CW, RV Tauri, ACEP) - пульсирующие\n",
    "    cep_markers = [\"DCEP\", \"CW-FU\", \"CW\", \"CWA\", \"CWB\", \"RVA\", \"RV\", \"ACEP\", \"CEP\"]\n",
    "    if any(m in t for m in cep_markers):\n",
    "        return \"PULSATING\"\n",
    "\n",
    "    # --- 3) RR Лиры (RRAB, RRC, RRD, RR...) - пульсирующие\n",
    "    rr_markers = [\"RRAB\", \"RRC\", \"RRD\", \"RR\"]\n",
    "    if any(m in t for m in rr_markers):\n",
    "        return \"PULSATING\"\n",
    "\n",
    "    # --- 4) Короткопериодические пульсаторы: DSCT, SXPHE, GDOR, roAp - пульсирующие\n",
    "    short_puls = [\"DSCT\", \"HADS\", \"SXPHE\", \"GDOR\", \"ROAP\", \"ROAM\"]\n",
    "    if any(m in t for m in short_puls):\n",
    "        return \"PULSATING\"\n",
    "\n",
    "    # --- 5) Долгопериодические и полуправильные (M, SR, L) - пульсирующие\n",
    "    lpv_markers = [\"MIRA\", \"SR\", \"SRA\", \"SRB\", \"SRC\", \"SRD\", \"L \", \"LB\", \"LC\", \"LPV\"]\n",
    "    if any(m in t for m in lpv_markers):\n",
    "        return \"PULSATING\"\n",
    "\n",
    "    # --- 6) Ротационные переменные (BY, RS, ACV, SPB, ROT, GCAS) ---\n",
    "    rot_markers = [\"BY\", \"RS\", \"ACV\", \"SPB\", \"ROT\", \"GCAS\"]\n",
    "    if any(m in t for m in rot_markers):\n",
    "        return \"ROTATING\"\n",
    "\n",
    "    # --- 7) Эруптивные/молодые звёзды (T Tauri, EXOR, UXOR, INS...) ---\n",
    "    yso_markers = [\"TTS\", \"EXOR\", \"UXOR\", \"INS\", \"IN\", \"INST\", \"CST\", \"DYP\", \"FSCM\", \"FUOR\", \"YSO\"]\n",
    "    if any(m in t for m in yso_markers):\n",
    "        return \"ERUPTIVE\"\n",
    "\n",
    "    # --- 8) Катаклизмические (UG, NL, AM, ZAND, IB, IS, ... ) ---\n",
    "    cataclysmic_markers = [\"UG\", \"NL\", \"AM\", \"ZAND\", \"IB\", \"ISB\", \"BE\", \"DPV\", \"EXOR\", \"FUOR\", \"PNB\"]  # и др.\n",
    "    if any(m in t for m in cataclysmic_markers):\n",
    "        return \"ERUPTIVE\"\n",
    "\n",
    "    if (t == \"E\"):\n",
    "        return \"ECLIPSING\"\n",
    "\n",
    "    if (t == \"L\"):\n",
    "        return \"PULSATING\"\n",
    "\n",
    "    # если ничего не подошло\n",
    "    return \"UNKNOWN\""
   ]
  },
  {
   "cell_type": "code",
   "execution_count": 3,
   "id": "52e82e5c-ffc9-4a5c-8fe5-f1d52d76de5d",
   "metadata": {},
   "outputs": [
    {
     "name": "stdout",
     "output_type": "stream",
     "text": [
      "class\n",
      "ROTATING     3102285\n",
      "PULSATING    3089412\n",
      "ECLIPSING    2568649\n",
      "UNKNOWN       892890\n",
      "ERUPTIVE       97179\n",
      "Name: count, dtype: int64\n"
     ]
    }
   ],
   "source": [
    "# целевая переменная:\n",
    "df[\"class\"] = df[\"Type\"].apply(classify_type)\n",
    "\n",
    "# в датасете очень мало эруптивных звезд\n",
    "print(df[\"class\"].value_counts())"
   ]
  },
  {
   "cell_type": "markdown",
   "id": "d40b450d-ff98-4d99-b59e-4e0dd8e3bac7",
   "metadata": {},
   "source": [
    "видно, что датасет *очень сильно* несбалансирован: класс ERUPTIVE составляет всего лишь 1.1% от всего датасета  \n",
    "будет интересным вызовом поднять f1 для этого класса хотя бы до 0.55"
   ]
  },
  {
   "cell_type": "code",
   "execution_count": 4,
   "id": "1f40e384-42ea-46de-9c00-323c370d8c11",
   "metadata": {},
   "outputs": [
    {
     "data": {
      "text/html": [
       "<div>\n",
       "<style scoped>\n",
       "    .dataframe tbody tr th:only-of-type {\n",
       "        vertical-align: middle;\n",
       "    }\n",
       "\n",
       "    .dataframe tbody tr th {\n",
       "        vertical-align: top;\n",
       "    }\n",
       "\n",
       "    .dataframe thead th {\n",
       "        text-align: right;\n",
       "    }\n",
       "</style>\n",
       "<table border=\"1\" class=\"dataframe\">\n",
       "  <thead>\n",
       "    <tr style=\"text-align: right;\">\n",
       "      <th></th>\n",
       "      <th>OID</th>\n",
       "      <th>n_OID</th>\n",
       "      <th>Name</th>\n",
       "      <th>V</th>\n",
       "      <th>l_max</th>\n",
       "      <th>max</th>\n",
       "      <th>u_max</th>\n",
       "      <th>n_max</th>\n",
       "      <th>f_min</th>\n",
       "      <th>l_min</th>\n",
       "      <th>min</th>\n",
       "      <th>u_min</th>\n",
       "      <th>n_min</th>\n",
       "      <th>l_Period</th>\n",
       "      <th>Period</th>\n",
       "      <th>u_Period</th>\n",
       "      <th>Sp</th>\n",
       "      <th>RAJ2000</th>\n",
       "      <th>DEJ2000</th>\n",
       "      <th>class</th>\n",
       "    </tr>\n",
       "  </thead>\n",
       "  <tbody>\n",
       "    <tr>\n",
       "      <th>0</th>\n",
       "      <td>8278100</td>\n",
       "      <td></td>\n",
       "      <td>Gaia DR3 4685168858707787776</td>\n",
       "      <td>0</td>\n",
       "      <td></td>\n",
       "      <td>16.59</td>\n",
       "      <td></td>\n",
       "      <td>G</td>\n",
       "      <td></td>\n",
       "      <td></td>\n",
       "      <td>17.740000</td>\n",
       "      <td></td>\n",
       "      <td>G</td>\n",
       "      <td></td>\n",
       "      <td>NaN</td>\n",
       "      <td></td>\n",
       "      <td>K</td>\n",
       "      <td>0.00006</td>\n",
       "      <td>-75.86906</td>\n",
       "      <td>PULSATING</td>\n",
       "    </tr>\n",
       "    <tr>\n",
       "      <th>1</th>\n",
       "      <td>2535232</td>\n",
       "      <td></td>\n",
       "      <td>Gaia DR3 2881873169572728832</td>\n",
       "      <td>0</td>\n",
       "      <td></td>\n",
       "      <td>16.59</td>\n",
       "      <td></td>\n",
       "      <td>G</td>\n",
       "      <td></td>\n",
       "      <td></td>\n",
       "      <td>16.639999</td>\n",
       "      <td></td>\n",
       "      <td>G</td>\n",
       "      <td></td>\n",
       "      <td>2.35407</td>\n",
       "      <td></td>\n",
       "      <td>G</td>\n",
       "      <td>0.00013</td>\n",
       "      <td>39.89248</td>\n",
       "      <td>ROTATING</td>\n",
       "    </tr>\n",
       "    <tr>\n",
       "      <th>2</th>\n",
       "      <td>2535233</td>\n",
       "      <td></td>\n",
       "      <td>Gaia DR3 4918216945285915648</td>\n",
       "      <td>0</td>\n",
       "      <td></td>\n",
       "      <td>17.07</td>\n",
       "      <td></td>\n",
       "      <td>G</td>\n",
       "      <td></td>\n",
       "      <td></td>\n",
       "      <td>17.600000</td>\n",
       "      <td></td>\n",
       "      <td>G</td>\n",
       "      <td></td>\n",
       "      <td>NaN</td>\n",
       "      <td></td>\n",
       "      <td>F</td>\n",
       "      <td>0.00019</td>\n",
       "      <td>-59.55921</td>\n",
       "      <td>PULSATING</td>\n",
       "    </tr>\n",
       "    <tr>\n",
       "      <th>3</th>\n",
       "      <td>2535234</td>\n",
       "      <td></td>\n",
       "      <td>Gaia DR3 566749663745310848</td>\n",
       "      <td>0</td>\n",
       "      <td></td>\n",
       "      <td>15.57</td>\n",
       "      <td></td>\n",
       "      <td>G</td>\n",
       "      <td></td>\n",
       "      <td></td>\n",
       "      <td>15.620000</td>\n",
       "      <td></td>\n",
       "      <td>G</td>\n",
       "      <td></td>\n",
       "      <td>NaN</td>\n",
       "      <td></td>\n",
       "      <td>K</td>\n",
       "      <td>0.00038</td>\n",
       "      <td>81.91627</td>\n",
       "      <td>ROTATING</td>\n",
       "    </tr>\n",
       "    <tr>\n",
       "      <th>4</th>\n",
       "      <td>2535235</td>\n",
       "      <td></td>\n",
       "      <td>Gaia DR3 430093700005970048</td>\n",
       "      <td>0</td>\n",
       "      <td></td>\n",
       "      <td>14.50</td>\n",
       "      <td></td>\n",
       "      <td>G</td>\n",
       "      <td></td>\n",
       "      <td></td>\n",
       "      <td>14.530000</td>\n",
       "      <td></td>\n",
       "      <td>G</td>\n",
       "      <td></td>\n",
       "      <td>NaN</td>\n",
       "      <td></td>\n",
       "      <td>F</td>\n",
       "      <td>0.00043</td>\n",
       "      <td>63.43314</td>\n",
       "      <td>ROTATING</td>\n",
       "    </tr>\n",
       "  </tbody>\n",
       "</table>\n",
       "</div>"
      ],
      "text/plain": [
       "       OID n_OID                          Name  V l_max    max u_max n_max  \\\n",
       "0  8278100        Gaia DR3 4685168858707787776  0        16.59           G   \n",
       "1  2535232        Gaia DR3 2881873169572728832  0        16.59           G   \n",
       "2  2535233        Gaia DR3 4918216945285915648  0        17.07           G   \n",
       "3  2535234         Gaia DR3 566749663745310848  0        15.57           G   \n",
       "4  2535235         Gaia DR3 430093700005970048  0        14.50           G   \n",
       "\n",
       "  f_min l_min        min u_min n_min l_Period   Period u_Period Sp  RAJ2000  \\\n",
       "0              17.740000           G               NaN           K  0.00006   \n",
       "1              16.639999           G           2.35407           G  0.00013   \n",
       "2              17.600000           G               NaN           F  0.00019   \n",
       "3              15.620000           G               NaN           K  0.00038   \n",
       "4              14.530000           G               NaN           F  0.00043   \n",
       "\n",
       "    DEJ2000      class  \n",
       "0 -75.86906  PULSATING  \n",
       "1  39.89248   ROTATING  \n",
       "2 -59.55921  PULSATING  \n",
       "3  81.91627   ROTATING  \n",
       "4  63.43314   ROTATING  "
      ]
     },
     "execution_count": 4,
     "metadata": {},
     "output_type": "execute_result"
    }
   ],
   "source": [
    "df = df[df[\"class\"] != \"UNKNOWN\"]\n",
    "df.drop(\"Type\", inplace=True, axis=1)\n",
    "df.head()"
   ]
  },
  {
   "cell_type": "code",
   "execution_count": 5,
   "id": "47a9dde2-782f-4ebf-a166-d6fbab7fd56e",
   "metadata": {},
   "outputs": [
    {
     "data": {
      "text/plain": [
       "OID               0\n",
       "n_OID             0\n",
       "Name              0\n",
       "V                 0\n",
       "l_max             0\n",
       "max             443\n",
       "u_max             0\n",
       "n_max             0\n",
       "f_min             0\n",
       "l_min             0\n",
       "min           13462\n",
       "u_min             0\n",
       "n_min             0\n",
       "l_Period          0\n",
       "Period      4593132\n",
       "u_Period          0\n",
       "Sp                0\n",
       "RAJ2000           0\n",
       "DEJ2000           0\n",
       "class             0\n",
       "dtype: int64"
      ]
     },
     "execution_count": 5,
     "metadata": {},
     "output_type": "execute_result"
    }
   ],
   "source": [
    "df.isnull().sum()"
   ]
  },
  {
   "cell_type": "code",
   "execution_count": 6,
   "id": "a3cc18a3-7a9f-46c1-be04-bbadebc55531",
   "metadata": {},
   "outputs": [
    {
     "data": {
      "text/plain": [
       "V\n",
       "0    8853434\n",
       "1       2161\n",
       "2       1138\n",
       "3        792\n",
       "Name: count, dtype: int64"
      ]
     },
     "execution_count": 6,
     "metadata": {},
     "output_type": "execute_result"
    }
   ],
   "source": [
    "df[\"V\"].value_counts()"
   ]
  },
  {
   "cell_type": "code",
   "execution_count": 7,
   "id": "4414c321-73a2-4ced-a26a-d1cd4afd60cc",
   "metadata": {},
   "outputs": [],
   "source": [
    "# несодержательные признаки\n",
    "df.drop([\"l_max\", \"u_max\", \"l_min\", \"u_min\", \"l_Period\", \"u_Period\", \"OID\", \"n_OID\", \"V\"], inplace=True, axis=1)"
   ]
  },
  {
   "cell_type": "code",
   "execution_count": 8,
   "id": "01658c2c-2e7e-4689-8cc0-715280a48746",
   "metadata": {},
   "outputs": [],
   "source": [
    "# попробуем извлечь новые признаки из колонки name\n",
    "df[\"Name\"] = df[\"Name\"].str.split().str[0]"
   ]
  },
  {
   "cell_type": "code",
   "execution_count": 9,
   "id": "de92d64a-87ba-4d09-a348-0b28f1aaa4c5",
   "metadata": {},
   "outputs": [],
   "source": [
    "counts = df[\"Name\"].value_counts()\n",
    "common_types = counts[counts > 1000].index  # часто встречающиеся типы\n",
    "df[\"Name\"] = df[\"Name\"].apply(lambda x: x if x in common_types else \"err\")"
   ]
  },
  {
   "cell_type": "code",
   "execution_count": 10,
   "id": "1966704c-e9c6-43d4-80b3-72d5a22052e7",
   "metadata": {},
   "outputs": [
    {
     "data": {
      "text/plain": [
       "Name\n",
       "Gaia         6875067\n",
       "err           856116\n",
       "ZTF           649501\n",
       "ASASSN-V      312531\n",
       "KIC            34633\n",
       "PS1-3PI        29261\n",
       "WISE           22634\n",
       "ASAS           18788\n",
       "NSVS            8567\n",
       "MACHO           5744\n",
       "NSV             4969\n",
       "OGLE            4078\n",
       "LINEAR          3991\n",
       "KID             3947\n",
       "[CAG2000]       2905\n",
       "HAT             2877\n",
       "2MASS           2842\n",
       "LMC             2578\n",
       "CoRoT           2349\n",
       "NGC             2271\n",
       "EPIC            1953\n",
       "SEKBO           1885\n",
       "GSC             1844\n",
       "HD              1734\n",
       "BESTII          1414\n",
       "SDSS            1019\n",
       "[MAA2010]       1015\n",
       "[H97b]          1012\n",
       "Name: count, dtype: int64"
      ]
     },
     "execution_count": 10,
     "metadata": {},
     "output_type": "execute_result"
    }
   ],
   "source": [
    "df[\"Name\"].value_counts()"
   ]
  },
  {
   "cell_type": "code",
   "execution_count": 11,
   "id": "b61b73d5-5723-4264-bb2d-becea874534a",
   "metadata": {},
   "outputs": [],
   "source": [
    "# применим label encoder\n",
    "\n",
    "le = LabelEncoder()\n",
    "df[\"Name\"] = le.fit_transform(df[\"Name\"])"
   ]
  },
  {
   "cell_type": "code",
   "execution_count": 12,
   "id": "6eff781f-b1c4-4e41-96ae-97f173d125ce",
   "metadata": {},
   "outputs": [
    {
     "data": {
      "text/plain": [
       "(8857525, 11)"
      ]
     },
     "execution_count": 12,
     "metadata": {},
     "output_type": "execute_result"
    }
   ],
   "source": [
    "df.shape"
   ]
  },
  {
   "cell_type": "code",
   "execution_count": 13,
   "id": "c7404d04-d99c-4a9c-bdb6-fa07c043a34b",
   "metadata": {},
   "outputs": [
    {
     "data": {
      "text/plain": [
       "class\n",
       "ECLIPSING    2509828\n",
       "PULSATING    1017772\n",
       "ROTATING      734431\n",
       "ERUPTIVE        2362\n",
       "Name: count, dtype: int64"
      ]
     },
     "execution_count": 13,
     "metadata": {},
     "output_type": "execute_result"
    }
   ],
   "source": [
    "# теперь перед нами выбор: дропнуть period, или дропнуть строки, в которых period nan\n",
    "df[df[\"Period\"].notna()][\"class\"].value_counts()"
   ]
  },
  {
   "cell_type": "markdown",
   "id": "6ba2a6d7-98a0-495b-8d0c-3b1bdd48405b",
   "metadata": {},
   "source": [
    "У эруптивных звёзд *нет периода*, поэтому этот признак является очень важным для их определения.\n",
    "Попробуем создать новый признак *has_period*$ у звёзд, у которого нет периода, зададим его значение как 0"
   ]
  },
  {
   "cell_type": "code",
   "execution_count": 14,
   "id": "1595c3e9-d7bc-42a5-a23d-35278c5f0050",
   "metadata": {},
   "outputs": [
    {
     "data": {
      "text/html": [
       "<div>\n",
       "<style scoped>\n",
       "    .dataframe tbody tr th:only-of-type {\n",
       "        vertical-align: middle;\n",
       "    }\n",
       "\n",
       "    .dataframe tbody tr th {\n",
       "        vertical-align: top;\n",
       "    }\n",
       "\n",
       "    .dataframe thead th {\n",
       "        text-align: right;\n",
       "    }\n",
       "</style>\n",
       "<table border=\"1\" class=\"dataframe\">\n",
       "  <thead>\n",
       "    <tr style=\"text-align: right;\">\n",
       "      <th></th>\n",
       "      <th>Name</th>\n",
       "      <th>max</th>\n",
       "      <th>n_max</th>\n",
       "      <th>f_min</th>\n",
       "      <th>min</th>\n",
       "      <th>n_min</th>\n",
       "      <th>Period</th>\n",
       "      <th>has_period</th>\n",
       "      <th>Sp</th>\n",
       "      <th>RAJ2000</th>\n",
       "      <th>DEJ2000</th>\n",
       "      <th>class</th>\n",
       "    </tr>\n",
       "  </thead>\n",
       "  <tbody>\n",
       "    <tr>\n",
       "      <th>0</th>\n",
       "      <td>7</td>\n",
       "      <td>16.59</td>\n",
       "      <td>G</td>\n",
       "      <td></td>\n",
       "      <td>17.740000</td>\n",
       "      <td>G</td>\n",
       "      <td>-1.00000</td>\n",
       "      <td>0</td>\n",
       "      <td>K</td>\n",
       "      <td>0.00006</td>\n",
       "      <td>-75.86906</td>\n",
       "      <td>PULSATING</td>\n",
       "    </tr>\n",
       "    <tr>\n",
       "      <th>1</th>\n",
       "      <td>7</td>\n",
       "      <td>16.59</td>\n",
       "      <td>G</td>\n",
       "      <td></td>\n",
       "      <td>16.639999</td>\n",
       "      <td>G</td>\n",
       "      <td>2.35407</td>\n",
       "      <td>1</td>\n",
       "      <td>G</td>\n",
       "      <td>0.00013</td>\n",
       "      <td>39.89248</td>\n",
       "      <td>ROTATING</td>\n",
       "    </tr>\n",
       "    <tr>\n",
       "      <th>2</th>\n",
       "      <td>7</td>\n",
       "      <td>17.07</td>\n",
       "      <td>G</td>\n",
       "      <td></td>\n",
       "      <td>17.600000</td>\n",
       "      <td>G</td>\n",
       "      <td>-1.00000</td>\n",
       "      <td>0</td>\n",
       "      <td>F</td>\n",
       "      <td>0.00019</td>\n",
       "      <td>-59.55921</td>\n",
       "      <td>PULSATING</td>\n",
       "    </tr>\n",
       "    <tr>\n",
       "      <th>3</th>\n",
       "      <td>7</td>\n",
       "      <td>15.57</td>\n",
       "      <td>G</td>\n",
       "      <td></td>\n",
       "      <td>15.620000</td>\n",
       "      <td>G</td>\n",
       "      <td>-1.00000</td>\n",
       "      <td>0</td>\n",
       "      <td>K</td>\n",
       "      <td>0.00038</td>\n",
       "      <td>81.91627</td>\n",
       "      <td>ROTATING</td>\n",
       "    </tr>\n",
       "    <tr>\n",
       "      <th>4</th>\n",
       "      <td>7</td>\n",
       "      <td>14.50</td>\n",
       "      <td>G</td>\n",
       "      <td></td>\n",
       "      <td>14.530000</td>\n",
       "      <td>G</td>\n",
       "      <td>-1.00000</td>\n",
       "      <td>0</td>\n",
       "      <td>F</td>\n",
       "      <td>0.00043</td>\n",
       "      <td>63.43314</td>\n",
       "      <td>ROTATING</td>\n",
       "    </tr>\n",
       "  </tbody>\n",
       "</table>\n",
       "</div>"
      ],
      "text/plain": [
       "   Name    max n_max f_min        min n_min   Period  has_period Sp  RAJ2000  \\\n",
       "0     7  16.59     G        17.740000     G -1.00000           0  K  0.00006   \n",
       "1     7  16.59     G        16.639999     G  2.35407           1  G  0.00013   \n",
       "2     7  17.07     G        17.600000     G -1.00000           0  F  0.00019   \n",
       "3     7  15.57     G        15.620000     G -1.00000           0  K  0.00038   \n",
       "4     7  14.50     G        14.530000     G -1.00000           0  F  0.00043   \n",
       "\n",
       "    DEJ2000      class  \n",
       "0 -75.86906  PULSATING  \n",
       "1  39.89248   ROTATING  \n",
       "2 -59.55921  PULSATING  \n",
       "3  81.91627   ROTATING  \n",
       "4  63.43314   ROTATING  "
      ]
     },
     "execution_count": 14,
     "metadata": {},
     "output_type": "execute_result"
    }
   ],
   "source": [
    "df[\"has_period\"] = df[\"Period\"].apply(lambda x: 1 if pd.notna(x) else 0)\n",
    "df[\"Period\"] = df[\"Period\"].fillna(-1)\n",
    "\n",
    "# поместим в df признак has_period после period\n",
    "col = df.pop(\"has_period\")\n",
    "df.insert(7, \"has_period\", col)\n",
    "df.head()"
   ]
  },
  {
   "cell_type": "code",
   "execution_count": 15,
   "id": "fc8e64a7-d933-4a23-a1c4-a2da66db5434",
   "metadata": {},
   "outputs": [
    {
     "data": {
      "text/plain": [
       "f_min\n",
       "     7165690\n",
       "Y    1691835\n",
       "Name: count, dtype: int64"
      ]
     },
     "execution_count": 15,
     "metadata": {},
     "output_type": "execute_result"
    }
   ],
   "source": [
    "df[\"f_min\"].value_counts()"
   ]
  },
  {
   "cell_type": "code",
   "execution_count": 16,
   "id": "515c744a-a893-4ac3-b6e3-03daf6eaeea5",
   "metadata": {},
   "outputs": [
    {
     "data": {
      "text/plain": [
       "f_min\n",
       "0    7165690\n",
       "1    1691835\n",
       "Name: count, dtype: int64"
      ]
     },
     "execution_count": 16,
     "metadata": {},
     "output_type": "execute_result"
    }
   ],
   "source": [
    "df[\"f_min\"] = df[\"f_min\"].apply(lambda x: 1 if x == \"Y\" else 0)\n",
    "df[\"f_min\"].value_counts()"
   ]
  },
  {
   "cell_type": "code",
   "execution_count": 17,
   "id": "68e318c6-14d3-43f3-b467-bcc881083df8",
   "metadata": {},
   "outputs": [
    {
     "data": {
      "text/html": [
       "<div>\n",
       "<style scoped>\n",
       "    .dataframe tbody tr th:only-of-type {\n",
       "        vertical-align: middle;\n",
       "    }\n",
       "\n",
       "    .dataframe tbody tr th {\n",
       "        vertical-align: top;\n",
       "    }\n",
       "\n",
       "    .dataframe thead th {\n",
       "        text-align: right;\n",
       "    }\n",
       "</style>\n",
       "<table border=\"1\" class=\"dataframe\">\n",
       "  <thead>\n",
       "    <tr style=\"text-align: right;\">\n",
       "      <th></th>\n",
       "      <th>Name</th>\n",
       "      <th>max</th>\n",
       "      <th>n_max</th>\n",
       "      <th>f_min</th>\n",
       "      <th>min</th>\n",
       "      <th>n_min</th>\n",
       "      <th>Period</th>\n",
       "      <th>has_period</th>\n",
       "      <th>Sp</th>\n",
       "      <th>RAJ2000</th>\n",
       "      <th>DEJ2000</th>\n",
       "      <th>class</th>\n",
       "    </tr>\n",
       "  </thead>\n",
       "  <tbody>\n",
       "    <tr>\n",
       "      <th>0</th>\n",
       "      <td>7</td>\n",
       "      <td>16.59</td>\n",
       "      <td>G</td>\n",
       "      <td>0</td>\n",
       "      <td>17.740000</td>\n",
       "      <td>G</td>\n",
       "      <td>-1.00000</td>\n",
       "      <td>0</td>\n",
       "      <td>K</td>\n",
       "      <td>0.00006</td>\n",
       "      <td>-75.86906</td>\n",
       "      <td>PULSATING</td>\n",
       "    </tr>\n",
       "    <tr>\n",
       "      <th>1</th>\n",
       "      <td>7</td>\n",
       "      <td>16.59</td>\n",
       "      <td>G</td>\n",
       "      <td>0</td>\n",
       "      <td>16.639999</td>\n",
       "      <td>G</td>\n",
       "      <td>2.35407</td>\n",
       "      <td>1</td>\n",
       "      <td>G</td>\n",
       "      <td>0.00013</td>\n",
       "      <td>39.89248</td>\n",
       "      <td>ROTATING</td>\n",
       "    </tr>\n",
       "    <tr>\n",
       "      <th>2</th>\n",
       "      <td>7</td>\n",
       "      <td>17.07</td>\n",
       "      <td>G</td>\n",
       "      <td>0</td>\n",
       "      <td>17.600000</td>\n",
       "      <td>G</td>\n",
       "      <td>-1.00000</td>\n",
       "      <td>0</td>\n",
       "      <td>F</td>\n",
       "      <td>0.00019</td>\n",
       "      <td>-59.55921</td>\n",
       "      <td>PULSATING</td>\n",
       "    </tr>\n",
       "    <tr>\n",
       "      <th>3</th>\n",
       "      <td>7</td>\n",
       "      <td>15.57</td>\n",
       "      <td>G</td>\n",
       "      <td>0</td>\n",
       "      <td>15.620000</td>\n",
       "      <td>G</td>\n",
       "      <td>-1.00000</td>\n",
       "      <td>0</td>\n",
       "      <td>K</td>\n",
       "      <td>0.00038</td>\n",
       "      <td>81.91627</td>\n",
       "      <td>ROTATING</td>\n",
       "    </tr>\n",
       "    <tr>\n",
       "      <th>4</th>\n",
       "      <td>7</td>\n",
       "      <td>14.50</td>\n",
       "      <td>G</td>\n",
       "      <td>0</td>\n",
       "      <td>14.530000</td>\n",
       "      <td>G</td>\n",
       "      <td>-1.00000</td>\n",
       "      <td>0</td>\n",
       "      <td>F</td>\n",
       "      <td>0.00043</td>\n",
       "      <td>63.43314</td>\n",
       "      <td>ROTATING</td>\n",
       "    </tr>\n",
       "  </tbody>\n",
       "</table>\n",
       "</div>"
      ],
      "text/plain": [
       "   Name    max n_max  f_min        min n_min   Period  has_period Sp  RAJ2000  \\\n",
       "0     7  16.59     G      0  17.740000     G -1.00000           0  K  0.00006   \n",
       "1     7  16.59     G      0  16.639999     G  2.35407           1  G  0.00013   \n",
       "2     7  17.07     G      0  17.600000     G -1.00000           0  F  0.00019   \n",
       "3     7  15.57     G      0  15.620000     G -1.00000           0  K  0.00038   \n",
       "4     7  14.50     G      0  14.530000     G -1.00000           0  F  0.00043   \n",
       "\n",
       "    DEJ2000      class  \n",
       "0 -75.86906  PULSATING  \n",
       "1  39.89248   ROTATING  \n",
       "2 -59.55921  PULSATING  \n",
       "3  81.91627   ROTATING  \n",
       "4  63.43314   ROTATING  "
      ]
     },
     "execution_count": 17,
     "metadata": {},
     "output_type": "execute_result"
    }
   ],
   "source": [
    "df.head()"
   ]
  },
  {
   "cell_type": "code",
   "execution_count": 18,
   "id": "de88d428-8148-42d8-a2ad-f8e31a5bf875",
   "metadata": {},
   "outputs": [],
   "source": [
    "# всего 443 звезды не имеют признака max, поэтому дропнем их\n",
    "df = df[df[\"max\"].notna()]\n",
    "\n",
    "# аналогично с min\n",
    "df = df[df[\"min\"].notna()]"
   ]
  },
  {
   "cell_type": "code",
   "execution_count": 19,
   "id": "7e3bb945-fcb0-4201-b5f0-69805f8c2b2f",
   "metadata": {},
   "outputs": [
    {
     "name": "stdout",
     "output_type": "stream",
     "text": [
      "8805306 нередкие с nan\n",
      "4514800 нередкие без nan\n"
     ]
    }
   ],
   "source": [
    "counts = df[\"Sp\"].value_counts()\n",
    "common_types = counts[counts > 1000].index.to_list() # редкие классы - те, которые встречаются <1000 раз в датасете\n",
    "print(len(df[df[\"Sp\"].isin(common_types)]), \"нередкие с nan\")\n",
    "common_types.remove(\"\")\n",
    "print(len(df[df[\"Sp\"].isin(common_types)]), \"нередкие без nan\")"
   ]
  },
  {
   "cell_type": "code",
   "execution_count": 20,
   "id": "833c5ada-b1d4-46f8-85c0-ce6b6f276132",
   "metadata": {},
   "outputs": [],
   "source": [
    "# пусть редкий признак будет закодирован как \"rare\", а отсутствие признака - как \"no\"\n",
    "df[\"Sp\"] = df[\"Sp\"].replace(\"\", \"none\")\n",
    "df[\"Sp\"] = df[\"Sp\"].apply(lambda x: \"rare\" if x not in common_types + [\"none\"] else x)"
   ]
  },
  {
   "cell_type": "code",
   "execution_count": 21,
   "id": "cc0de297-b9ff-48c5-bfba-9b2c24d85297",
   "metadata": {},
   "outputs": [
    {
     "data": {
      "text/plain": [
       "Sp\n",
       "none    4290506\n",
       "K       1606290\n",
       "M        871682\n",
       "F        736688\n",
       "G        711373\n",
       "A        421088\n",
       "B        120353\n",
       "rare      38505\n",
       "O         28113\n",
       "C         15756\n",
       "F0         1315\n",
       "em         1123\n",
       "G7         1019\n",
       "Name: count, dtype: int64"
      ]
     },
     "execution_count": 21,
     "metadata": {},
     "output_type": "execute_result"
    }
   ],
   "source": [
    "df[\"Sp\"].value_counts()"
   ]
  },
  {
   "cell_type": "code",
   "execution_count": 22,
   "id": "486fce12-56da-4a51-82c4-7fe159537c0c",
   "metadata": {},
   "outputs": [
    {
     "data": {
      "text/plain": [
       "n_max\n",
       "G     6876366\n",
       "Ic     679859\n",
       "r      622783\n",
       "V      258564\n",
       "g      216882\n",
       "       ...   \n",
       "BP          1\n",
       "Bj          1\n",
       "pv          1\n",
       "EW          1\n",
       "L           1\n",
       "Name: count, Length: 62, dtype: int64"
      ]
     },
     "execution_count": 22,
     "metadata": {},
     "output_type": "execute_result"
    }
   ],
   "source": [
    "df[\"n_max\"].value_counts()"
   ]
  },
  {
   "cell_type": "code",
   "execution_count": 23,
   "id": "c96d1e3d-0c3a-4833-8ad4-5a872a25cd30",
   "metadata": {},
   "outputs": [
    {
     "name": "stdout",
     "output_type": "stream",
     "text": [
      "688\n"
     ]
    },
    {
     "data": {
      "text/plain": [
       "n_max\n",
       "G       6876366\n",
       "Ic       679859\n",
       "r        622783\n",
       "V        258564\n",
       "g        216882\n",
       "CV        99785\n",
       "Kp        37079\n",
       "W1        13011\n",
       "pg        11533\n",
       "R1         5344\n",
       "CR         5051\n",
       "B          3905\n",
       "rare       3269\n",
       "I          2974\n",
       "R          2405\n",
       "J          2207\n",
       "Hp         2106\n",
       "Name: count, dtype: int64"
      ]
     },
     "execution_count": 23,
     "metadata": {},
     "output_type": "execute_result"
    }
   ],
   "source": [
    "# разберемся с n_max\n",
    "# сделаем то же самое, что и с Sp\n",
    "print(len(df[df[\"n_max\"] == \"\"])) # всего 688 значений, можем смело дропать\n",
    "df = df[df[\"n_max\"] != \"\"]\n",
    "counts = df[\"n_max\"].value_counts()\n",
    "common_types = counts[counts > 1000].index.to_list()\n",
    "df[\"n_max\"] = df[\"n_max\"].apply(lambda x: \"rare\" if x not in common_types else x)\n",
    "df[\"n_max\"].value_counts()"
   ]
  },
  {
   "cell_type": "code",
   "execution_count": 24,
   "id": "989a45a0-191b-4d7c-8b05-1e86bb433c60",
   "metadata": {},
   "outputs": [
    {
     "data": {
      "text/plain": [
       "n_max\n",
       "G       6876366\n",
       "Ic       679859\n",
       "r        622783\n",
       "V        258564\n",
       "g        216882\n",
       "CV        99785\n",
       "Kp        37079\n",
       "W1        13011\n",
       "pg        11533\n",
       "R1         5344\n",
       "CR         5051\n",
       "B          3905\n",
       "rare       3269\n",
       "I          2974\n",
       "R          2405\n",
       "J          2207\n",
       "Hp         2106\n",
       "Name: count, dtype: int64"
      ]
     },
     "execution_count": 24,
     "metadata": {},
     "output_type": "execute_result"
    }
   ],
   "source": [
    "df[\"n_max\"].value_counts()"
   ]
  },
  {
   "cell_type": "code",
   "execution_count": 25,
   "id": "45859e4d-5830-43a5-9401-74101f621fbf",
   "metadata": {},
   "outputs": [
    {
     "name": "stdout",
     "output_type": "stream",
     "text": [
      "0\n"
     ]
    },
    {
     "data": {
      "text/plain": [
       "n_min\n",
       "G        6875225\n",
       "Ic        680229\n",
       "r         625127\n",
       "V         255036\n",
       "g         216630\n",
       "          ...   \n",
       "Bj             1\n",
       "[3.6]          1\n",
       "B*             1\n",
       "pv             1\n",
       "L              1\n",
       "Name: count, Length: 63, dtype: int64"
      ]
     },
     "execution_count": 25,
     "metadata": {},
     "output_type": "execute_result"
    }
   ],
   "source": [
    "# ну и n_min\n",
    "print(len(df[df[\"n_min\"] == \"\"])) # в данных нет пропусков\n",
    "df[\"n_min\"].value_counts()"
   ]
  },
  {
   "cell_type": "code",
   "execution_count": 26,
   "id": "944f2950-1177-48d0-baff-ecfd387355c9",
   "metadata": {},
   "outputs": [
    {
     "data": {
      "text/plain": [
       "n_min\n",
       "G       6875225\n",
       "Ic       680229\n",
       "r        625127\n",
       "V        255036\n",
       "g        216630\n",
       "CV       100118\n",
       "Kp        37257\n",
       "W1        13053\n",
       "pg        11539\n",
       "R1         5697\n",
       "CR         5407\n",
       "B          4519\n",
       "rare       3706\n",
       "I          2966\n",
       "R          2469\n",
       "Hp         2162\n",
       "w          1983\n",
       "Name: count, dtype: int64"
      ]
     },
     "execution_count": 26,
     "metadata": {},
     "output_type": "execute_result"
    }
   ],
   "source": [
    "counts = df[\"n_min\"].value_counts()\n",
    "common_types = counts[counts > 1000].index.to_list()\n",
    "df[\"n_min\"] = df[\"n_min\"].apply(lambda x: \"rare\" if x not in common_types else x)\n",
    "df[\"n_min\"].value_counts()"
   ]
  },
  {
   "cell_type": "code",
   "execution_count": 27,
   "id": "9d5d19a5-dd0f-4fab-a346-617c29744c4b",
   "metadata": {},
   "outputs": [
    {
     "data": {
      "text/html": [
       "<div>\n",
       "<style scoped>\n",
       "    .dataframe tbody tr th:only-of-type {\n",
       "        vertical-align: middle;\n",
       "    }\n",
       "\n",
       "    .dataframe tbody tr th {\n",
       "        vertical-align: top;\n",
       "    }\n",
       "\n",
       "    .dataframe thead th {\n",
       "        text-align: right;\n",
       "    }\n",
       "</style>\n",
       "<table border=\"1\" class=\"dataframe\">\n",
       "  <thead>\n",
       "    <tr style=\"text-align: right;\">\n",
       "      <th></th>\n",
       "      <th>Name</th>\n",
       "      <th>max</th>\n",
       "      <th>n_max</th>\n",
       "      <th>f_min</th>\n",
       "      <th>min</th>\n",
       "      <th>n_min</th>\n",
       "      <th>Period</th>\n",
       "      <th>has_period</th>\n",
       "      <th>Sp</th>\n",
       "      <th>RAJ2000</th>\n",
       "      <th>DEJ2000</th>\n",
       "      <th>class</th>\n",
       "    </tr>\n",
       "  </thead>\n",
       "  <tbody>\n",
       "    <tr>\n",
       "      <th>0</th>\n",
       "      <td>7</td>\n",
       "      <td>16.59</td>\n",
       "      <td>G</td>\n",
       "      <td>0</td>\n",
       "      <td>17.740000</td>\n",
       "      <td>G</td>\n",
       "      <td>-1.00000</td>\n",
       "      <td>0</td>\n",
       "      <td>K</td>\n",
       "      <td>0.00006</td>\n",
       "      <td>-75.86906</td>\n",
       "      <td>PULSATING</td>\n",
       "    </tr>\n",
       "    <tr>\n",
       "      <th>1</th>\n",
       "      <td>7</td>\n",
       "      <td>16.59</td>\n",
       "      <td>G</td>\n",
       "      <td>0</td>\n",
       "      <td>16.639999</td>\n",
       "      <td>G</td>\n",
       "      <td>2.35407</td>\n",
       "      <td>1</td>\n",
       "      <td>G</td>\n",
       "      <td>0.00013</td>\n",
       "      <td>39.89248</td>\n",
       "      <td>ROTATING</td>\n",
       "    </tr>\n",
       "    <tr>\n",
       "      <th>2</th>\n",
       "      <td>7</td>\n",
       "      <td>17.07</td>\n",
       "      <td>G</td>\n",
       "      <td>0</td>\n",
       "      <td>17.600000</td>\n",
       "      <td>G</td>\n",
       "      <td>-1.00000</td>\n",
       "      <td>0</td>\n",
       "      <td>F</td>\n",
       "      <td>0.00019</td>\n",
       "      <td>-59.55921</td>\n",
       "      <td>PULSATING</td>\n",
       "    </tr>\n",
       "    <tr>\n",
       "      <th>3</th>\n",
       "      <td>7</td>\n",
       "      <td>15.57</td>\n",
       "      <td>G</td>\n",
       "      <td>0</td>\n",
       "      <td>15.620000</td>\n",
       "      <td>G</td>\n",
       "      <td>-1.00000</td>\n",
       "      <td>0</td>\n",
       "      <td>K</td>\n",
       "      <td>0.00038</td>\n",
       "      <td>81.91627</td>\n",
       "      <td>ROTATING</td>\n",
       "    </tr>\n",
       "    <tr>\n",
       "      <th>4</th>\n",
       "      <td>7</td>\n",
       "      <td>14.50</td>\n",
       "      <td>G</td>\n",
       "      <td>0</td>\n",
       "      <td>14.530000</td>\n",
       "      <td>G</td>\n",
       "      <td>-1.00000</td>\n",
       "      <td>0</td>\n",
       "      <td>F</td>\n",
       "      <td>0.00043</td>\n",
       "      <td>63.43314</td>\n",
       "      <td>ROTATING</td>\n",
       "    </tr>\n",
       "  </tbody>\n",
       "</table>\n",
       "</div>"
      ],
      "text/plain": [
       "   Name    max n_max  f_min        min n_min   Period  has_period Sp  RAJ2000  \\\n",
       "0     7  16.59     G      0  17.740000     G -1.00000           0  K  0.00006   \n",
       "1     7  16.59     G      0  16.639999     G  2.35407           1  G  0.00013   \n",
       "2     7  17.07     G      0  17.600000     G -1.00000           0  F  0.00019   \n",
       "3     7  15.57     G      0  15.620000     G -1.00000           0  K  0.00038   \n",
       "4     7  14.50     G      0  14.530000     G -1.00000           0  F  0.00043   \n",
       "\n",
       "    DEJ2000      class  \n",
       "0 -75.86906  PULSATING  \n",
       "1  39.89248   ROTATING  \n",
       "2 -59.55921  PULSATING  \n",
       "3  81.91627   ROTATING  \n",
       "4  63.43314   ROTATING  "
      ]
     },
     "execution_count": 27,
     "metadata": {},
     "output_type": "execute_result"
    }
   ],
   "source": [
    "df.head()"
   ]
  },
  {
   "cell_type": "code",
   "execution_count": 28,
   "id": "7ed50662-71bf-4746-9e4f-3e7dac7ae983",
   "metadata": {},
   "outputs": [],
   "source": [
    "le = LabelEncoder()\n",
    "df[\"n_max\"] = le.fit_transform(df[\"n_max\"])\n",
    "\n",
    "le = LabelEncoder()\n",
    "df[\"n_min\"] = le.fit_transform(df[\"n_min\"])\n",
    "\n",
    "le = LabelEncoder()\n",
    "df[\"Sp\"] = le.fit_transform(df[\"Sp\"])"
   ]
  },
  {
   "cell_type": "code",
   "execution_count": 29,
   "id": "88f929d9-62f3-449f-8fa4-031708b0378f",
   "metadata": {},
   "outputs": [],
   "source": [
    "# создадим новый признак - амплитуда (min - max)\n",
    "df[\"range\"] = df[\"min\"] - df[\"max\"]"
   ]
  },
  {
   "cell_type": "code",
   "execution_count": 30,
   "id": "a355622f-1f8b-42c9-9c7b-ac38b15a25b3",
   "metadata": {},
   "outputs": [
    {
     "data": {
      "text/html": [
       "<div>\n",
       "<style scoped>\n",
       "    .dataframe tbody tr th:only-of-type {\n",
       "        vertical-align: middle;\n",
       "    }\n",
       "\n",
       "    .dataframe tbody tr th {\n",
       "        vertical-align: top;\n",
       "    }\n",
       "\n",
       "    .dataframe thead th {\n",
       "        text-align: right;\n",
       "    }\n",
       "</style>\n",
       "<table border=\"1\" class=\"dataframe\">\n",
       "  <thead>\n",
       "    <tr style=\"text-align: right;\">\n",
       "      <th></th>\n",
       "      <th>Name</th>\n",
       "      <th>max</th>\n",
       "      <th>n_max</th>\n",
       "      <th>f_min</th>\n",
       "      <th>min</th>\n",
       "      <th>n_min</th>\n",
       "      <th>Period</th>\n",
       "      <th>has_period</th>\n",
       "      <th>Sp</th>\n",
       "      <th>RAJ2000</th>\n",
       "      <th>DEJ2000</th>\n",
       "      <th>class</th>\n",
       "      <th>range</th>\n",
       "    </tr>\n",
       "  </thead>\n",
       "  <tbody>\n",
       "    <tr>\n",
       "      <th>0</th>\n",
       "      <td>7</td>\n",
       "      <td>16.59</td>\n",
       "      <td>3</td>\n",
       "      <td>0</td>\n",
       "      <td>17.740000</td>\n",
       "      <td>3</td>\n",
       "      <td>-1.00000</td>\n",
       "      <td>0</td>\n",
       "      <td>7</td>\n",
       "      <td>0.00006</td>\n",
       "      <td>-75.86906</td>\n",
       "      <td>2</td>\n",
       "      <td>1.150000</td>\n",
       "    </tr>\n",
       "    <tr>\n",
       "      <th>1</th>\n",
       "      <td>7</td>\n",
       "      <td>16.59</td>\n",
       "      <td>3</td>\n",
       "      <td>0</td>\n",
       "      <td>16.639999</td>\n",
       "      <td>3</td>\n",
       "      <td>2.35407</td>\n",
       "      <td>1</td>\n",
       "      <td>5</td>\n",
       "      <td>0.00013</td>\n",
       "      <td>39.89248</td>\n",
       "      <td>3</td>\n",
       "      <td>0.049999</td>\n",
       "    </tr>\n",
       "    <tr>\n",
       "      <th>2</th>\n",
       "      <td>7</td>\n",
       "      <td>17.07</td>\n",
       "      <td>3</td>\n",
       "      <td>0</td>\n",
       "      <td>17.600000</td>\n",
       "      <td>3</td>\n",
       "      <td>-1.00000</td>\n",
       "      <td>0</td>\n",
       "      <td>3</td>\n",
       "      <td>0.00019</td>\n",
       "      <td>-59.55921</td>\n",
       "      <td>2</td>\n",
       "      <td>0.530001</td>\n",
       "    </tr>\n",
       "    <tr>\n",
       "      <th>3</th>\n",
       "      <td>7</td>\n",
       "      <td>15.57</td>\n",
       "      <td>3</td>\n",
       "      <td>0</td>\n",
       "      <td>15.620000</td>\n",
       "      <td>3</td>\n",
       "      <td>-1.00000</td>\n",
       "      <td>0</td>\n",
       "      <td>7</td>\n",
       "      <td>0.00038</td>\n",
       "      <td>81.91627</td>\n",
       "      <td>3</td>\n",
       "      <td>0.050000</td>\n",
       "    </tr>\n",
       "    <tr>\n",
       "      <th>4</th>\n",
       "      <td>7</td>\n",
       "      <td>14.50</td>\n",
       "      <td>3</td>\n",
       "      <td>0</td>\n",
       "      <td>14.530000</td>\n",
       "      <td>3</td>\n",
       "      <td>-1.00000</td>\n",
       "      <td>0</td>\n",
       "      <td>3</td>\n",
       "      <td>0.00043</td>\n",
       "      <td>63.43314</td>\n",
       "      <td>3</td>\n",
       "      <td>0.030000</td>\n",
       "    </tr>\n",
       "  </tbody>\n",
       "</table>\n",
       "</div>"
      ],
      "text/plain": [
       "   Name    max  n_max  f_min        min  n_min   Period  has_period  Sp  \\\n",
       "0     7  16.59      3      0  17.740000      3 -1.00000           0   7   \n",
       "1     7  16.59      3      0  16.639999      3  2.35407           1   5   \n",
       "2     7  17.07      3      0  17.600000      3 -1.00000           0   3   \n",
       "3     7  15.57      3      0  15.620000      3 -1.00000           0   7   \n",
       "4     7  14.50      3      0  14.530000      3 -1.00000           0   3   \n",
       "\n",
       "   RAJ2000   DEJ2000  class     range  \n",
       "0  0.00006 -75.86906      2  1.150000  \n",
       "1  0.00013  39.89248      3  0.049999  \n",
       "2  0.00019 -59.55921      2  0.530001  \n",
       "3  0.00038  81.91627      3  0.050000  \n",
       "4  0.00043  63.43314      3  0.030000  "
      ]
     },
     "execution_count": 30,
     "metadata": {},
     "output_type": "execute_result"
    }
   ],
   "source": [
    "# преобразуем class в численные значения\n",
    "target_classifier = LabelEncoder()\n",
    "df[\"class\"] = target_classifier.fit_transform(df[\"class\"])\n",
    "df.head()"
   ]
  },
  {
   "cell_type": "code",
   "execution_count": 31,
   "id": "3c13b3b6-66c8-4368-86f8-638ae145e3b9",
   "metadata": {},
   "outputs": [
    {
     "data": {
      "text/plain": [
       "<Axes: >"
      ]
     },
     "execution_count": 31,
     "metadata": {},
     "output_type": "execute_result"
    },
    {
     "data": {
      "image/png": "[encoded data removed]",
      "text/plain": [
       "<Figure size 1600x1200 with 2 Axes>"
      ]
     },
     "metadata": {},
     "output_type": "display_data"
    }
   ],
   "source": [
    "numerical = [\"max\", \"min\", \"Period\", \"range\"]\n",
    "corr_matrix = df[numerical].corr()\n",
    "sns.heatmap(corr_matrix, annot=True)"
   ]
  },
  {
   "cell_type": "code",
   "execution_count": 32,
   "id": "e7e16f91-4054-4429-890f-861aa81a903a",
   "metadata": {},
   "outputs": [],
   "source": [
    "# скейлим\n",
    "from sklearn.preprocessing import StandardScaler\n",
    "scaled_cols = [\"max\", \"min\", \"Period\", \"RAJ2000\", \"DEJ2000\", \"range\"]\n",
    "\n",
    "scaler = StandardScaler()\n",
    "df[scaled_cols] = scaler.fit_transform(df[scaled_cols])"
   ]
  },
  {
   "cell_type": "markdown",
   "id": "29f85496-b368-476f-9508-a8eb7b3d5cb2",
   "metadata": {},
   "source": [
    "## обучение"
   ]
  },
  {
   "cell_type": "code",
   "execution_count": 33,
   "id": "12155c75-8d68-4d76-a445-9ae9dce50f71",
   "metadata": {},
   "outputs": [],
   "source": [
    "from sklearn.linear_model import LogisticRegression\n",
    "from sklearn.model_selection import train_test_split\n",
    "\n",
    "X = df[[x for x in df.columns if x != \"class\"]]\n",
    "y = df[\"class\"]"
   ]
  },
  {
   "cell_type": "code",
   "execution_count": 34,
   "id": "f8188964-458f-4aa3-b1a1-32349d5f3fd3",
   "metadata": {},
   "outputs": [
    {
     "name": "stdout",
     "output_type": "stream",
     "text": [
      "(300001, 12)\n",
      "(300001,)\n"
     ]
    },
    {
     "name": "stderr",
     "output_type": "stream",
     "text": [
      "/tmp/ipykernel_20257/290448838.py:4: DeprecationWarning: DataFrameGroupBy.apply operated on the grouping columns. This behavior is deprecated, and in a future version of pandas the grouping columns will be excluded from the operation. Either pass `include_groups=False` to exclude the groupings or explicitly select the grouping columns after groupby to silence this warning.\n",
      "  .apply(lambda x: x.sample(frac=sample_size/len(df)))\n"
     ]
    }
   ],
   "source": [
    "# сначала попробуем обучить на меньшем датасете (300 000 строк), чтобы обучение шло быстрее\n",
    "def stratified_sample(df, class_column, sample_size):\n",
    "    return df.groupby(class_column, group_keys=False)\\\n",
    "             .apply(lambda x: x.sample(frac=sample_size/len(df)))\n",
    "\n",
    "subset = stratified_sample(df, 'class', 300000)\n",
    "subset[\"class\"].value_counts()\n",
    "\n",
    "sub_X = subset[[x for x in df.columns if x != \"class\"]]\n",
    "sub_y = subset[\"class\"]\n",
    "\n",
    "print(sub_X.shape)\n",
    "print(sub_y.shape)"
   ]
  },
  {
   "cell_type": "code",
   "execution_count": 35,
   "id": "bf95c73f-19f5-435d-9cba-f86ee9bcde69",
   "metadata": {},
   "outputs": [],
   "source": [
    "sub_X_train, sub_X_test, sub_y_train, sub_y_test = train_test_split(\n",
    "    sub_X, sub_y,\n",
    "    stratify=sub_y,\n",
    "    test_size=0.2,\n",
    "    random_state=42\n",
    ")"
   ]
  },
  {
   "cell_type": "code",
   "execution_count": 36,
   "id": "4ba35e19-0700-4add-b157-0442f9413cfa",
   "metadata": {},
   "outputs": [
    {
     "data": {
      "text/html": [
       "<style>#sk-container-id-1 {\n",
       "  /* Definition of color scheme common for light and dark mode */\n",
       "  --sklearn-color-text: #000;\n",
       "  --sklearn-color-text-muted: #666;\n",
       "  --sklearn-color-line: gray;\n",
       "  /* Definition of color scheme for unfitted estimators */\n",
       "  --sklearn-color-unfitted-level-0: #fff5e6;\n",
       "  --sklearn-color-unfitted-level-1: #f6e4d2;\n",
       "  --sklearn-color-unfitted-level-2: #ffe0b3;\n",
       "  --sklearn-color-unfitted-level-3: chocolate;\n",
       "  /* Definition of color scheme for fitted estimators */\n",
       "  --sklearn-color-fitted-level-0: #f0f8ff;\n",
       "  --sklearn-color-fitted-level-1: #d4ebff;\n",
       "  --sklearn-color-fitted-level-2: #b3dbfd;\n",
       "  --sklearn-color-fitted-level-3: cornflowerblue;\n",
       "\n",
       "  /* Specific color for light theme */\n",
       "  --sklearn-color-text-on-default-background: var(--sg-text-color, var(--theme-code-foreground, var(--jp-content-font-color1, black)));\n",
       "  --sklearn-color-background: var(--sg-background-color, var(--theme-background, var(--jp-layout-color0, white)));\n",
       "  --sklearn-color-border-box: var(--sg-text-color, var(--theme-code-foreground, var(--jp-content-font-color1, black)));\n",
       "  --sklearn-color-icon: #696969;\n",
       "\n",
       "  @media (prefers-color-scheme: dark) {\n",
       "    /* Redefinition of color scheme for dark theme */\n",
       "    --sklearn-color-text-on-default-background: var(--sg-text-color, var(--theme-code-foreground, var(--jp-content-font-color1, white)));\n",
       "    --sklearn-color-background: var(--sg-background-color, var(--theme-background, var(--jp-layout-color0, #111)));\n",
       "    --sklearn-color-border-box: var(--sg-text-color, var(--theme-code-foreground, var(--jp-content-font-color1, white)));\n",
       "    --sklearn-color-icon: #878787;\n",
       "  }\n",
       "}\n",
       "\n",
       "#sk-container-id-1 {\n",
       "  color: var(--sklearn-color-text);\n",
       "}\n",
       "\n",
       "#sk-container-id-1 pre {\n",
       "  padding: 0;\n",
       "}\n",
       "\n",
       "#sk-container-id-1 input.sk-hidden--visually {\n",
       "  border: 0;\n",
       "  clip: rect(1px 1px 1px 1px);\n",
       "  clip: rect(1px, 1px, 1px, 1px);\n",
       "  height: 1px;\n",
       "  margin: -1px;\n",
       "  overflow: hidden;\n",
       "  padding: 0;\n",
       "  position: absolute;\n",
       "  width: 1px;\n",
       "}\n",
       "\n",
       "#sk-container-id-1 div.sk-dashed-wrapped {\n",
       "  border: 1px dashed var(--sklearn-color-line);\n",
       "  margin: 0 0.4em 0.5em 0.4em;\n",
       "  box-sizing: border-box;\n",
       "  padding-bottom: 0.4em;\n",
       "  background-color: var(--sklearn-color-background);\n",
       "}\n",
       "\n",
       "#sk-container-id-1 div.sk-container {\n",
       "  /* jupyter's `normalize.less` sets `[hidden] { display: none; }`\n",
       "     but bootstrap.min.css set `[hidden] { display: none !important; }`\n",
       "     so we also need the `!important` here to be able to override the\n",
       "     default hidden behavior on the sphinx rendered scikit-learn.org.\n",
       "     See: https://github.com/scikit-learn/scikit-learn/issues/21755 */\n",
       "  display: inline-block !important;\n",
       "  position: relative;\n",
       "}\n",
       "\n",
       "#sk-container-id-1 div.sk-text-repr-fallback {\n",
       "  display: none;\n",
       "}\n",
       "\n",
       "div.sk-parallel-item,\n",
       "div.sk-serial,\n",
       "div.sk-item {\n",
       "  /* draw centered vertical line to link estimators */\n",
       "  background-image: linear-gradient(var(--sklearn-color-text-on-default-background), var(--sklearn-color-text-on-default-background));\n",
       "  background-size: 2px 100%;\n",
       "  background-repeat: no-repeat;\n",
       "  background-position: center center;\n",
       "}\n",
       "\n",
       "/* Parallel-specific style estimator block */\n",
       "\n",
       "#sk-container-id-1 div.sk-parallel-item::after {\n",
       "  content: \"\";\n",
       "  width: 100%;\n",
       "  border-bottom: 2px solid var(--sklearn-color-text-on-default-background);\n",
       "  flex-grow: 1;\n",
       "}\n",
       "\n",
       "#sk-container-id-1 div.sk-parallel {\n",
       "  display: flex;\n",
       "  align-items: stretch;\n",
       "  justify-content: center;\n",
       "  background-color: var(--sklearn-color-background);\n",
       "  position: relative;\n",
       "}\n",
       "\n",
       "#sk-container-id-1 div.sk-parallel-item {\n",
       "  display: flex;\n",
       "  flex-direction: column;\n",
       "}\n",
       "\n",
       "#sk-container-id-1 div.sk-parallel-item:first-child::after {\n",
       "  align-self: flex-end;\n",
       "  width: 50%;\n",
       "}\n",
       "\n",
       "#sk-container-id-1 div.sk-parallel-item:last-child::after {\n",
       "  align-self: flex-start;\n",
       "  width: 50%;\n",
       "}\n",
       "\n",
       "#sk-container-id-1 div.sk-parallel-item:only-child::after {\n",
       "  width: 0;\n",
       "}\n",
       "\n",
       "/* Serial-specific style estimator block */\n",
       "\n",
       "#sk-container-id-1 div.sk-serial {\n",
       "  display: flex;\n",
       "  flex-direction: column;\n",
       "  align-items: center;\n",
       "  background-color: var(--sklearn-color-background);\n",
       "  padding-right: 1em;\n",
       "  padding-left: 1em;\n",
       "}\n",
       "\n",
       "\n",
       "/* Toggleable style: style used for estimator/Pipeline/ColumnTransformer box that is\n",
       "clickable and can be expanded/collapsed.\n",
       "- Pipeline and ColumnTransformer use this feature and define the default style\n",
       "- Estimators will overwrite some part of the style using the `sk-estimator` class\n",
       "*/\n",
       "\n",
       "/* Pipeline and ColumnTransformer style (default) */\n",
       "\n",
       "#sk-container-id-1 div.sk-toggleable {\n",
       "  /* Default theme specific background. It is overwritten whether we have a\n",
       "  specific estimator or a Pipeline/ColumnTransformer */\n",
       "  background-color: var(--sklearn-color-background);\n",
       "}\n",
       "\n",
       "/* Toggleable label */\n",
       "#sk-container-id-1 label.sk-toggleable__label {\n",
       "  cursor: pointer;\n",
       "  display: flex;\n",
       "  width: 100%;\n",
       "  margin-bottom: 0;\n",
       "  padding: 0.5em;\n",
       "  box-sizing: border-box;\n",
       "  text-align: center;\n",
       "  align-items: start;\n",
       "  justify-content: space-between;\n",
       "  gap: 0.5em;\n",
       "}\n",
       "\n",
       "#sk-container-id-1 label.sk-toggleable__label .caption {\n",
       "  font-size: 0.6rem;\n",
       "  font-weight: lighter;\n",
       "  color: var(--sklearn-color-text-muted);\n",
       "}\n",
       "\n",
       "#sk-container-id-1 label.sk-toggleable__label-arrow:before {\n",
       "  /* Arrow on the left of the label */\n",
       "  content: \"▸\";\n",
       "  float: left;\n",
       "  margin-right: 0.25em;\n",
       "  color: var(--sklearn-color-icon);\n",
       "}\n",
       "\n",
       "#sk-container-id-1 label.sk-toggleable__label-arrow:hover:before {\n",
       "  color: var(--sklearn-color-text);\n",
       "}\n",
       "\n",
       "/* Toggleable content - dropdown */\n",
       "\n",
       "#sk-container-id-1 div.sk-toggleable__content {\n",
       "  max-height: 0;\n",
       "  max-width: 0;\n",
       "  overflow: hidden;\n",
       "  text-align: left;\n",
       "  /* unfitted */\n",
       "  background-color: var(--sklearn-color-unfitted-level-0);\n",
       "}\n",
       "\n",
       "#sk-container-id-1 div.sk-toggleable__content.fitted {\n",
       "  /* fitted */\n",
       "  background-color: var(--sklearn-color-fitted-level-0);\n",
       "}\n",
       "\n",
       "#sk-container-id-1 div.sk-toggleable__content pre {\n",
       "  margin: 0.2em;\n",
       "  border-radius: 0.25em;\n",
       "  color: var(--sklearn-color-text);\n",
       "  /* unfitted */\n",
       "  background-color: var(--sklearn-color-unfitted-level-0);\n",
       "}\n",
       "\n",
       "#sk-container-id-1 div.sk-toggleable__content.fitted pre {\n",
       "  /* unfitted */\n",
       "  background-color: var(--sklearn-color-fitted-level-0);\n",
       "}\n",
       "\n",
       "#sk-container-id-1 input.sk-toggleable__control:checked~div.sk-toggleable__content {\n",
       "  /* Expand drop-down */\n",
       "  max-height: 200px;\n",
       "  max-width: 100%;\n",
       "  overflow: auto;\n",
       "}\n",
       "\n",
       "#sk-container-id-1 input.sk-toggleable__control:checked~label.sk-toggleable__label-arrow:before {\n",
       "  content: \"▾\";\n",
       "}\n",
       "\n",
       "/* Pipeline/ColumnTransformer-specific style */\n",
       "\n",
       "#sk-container-id-1 div.sk-label input.sk-toggleable__control:checked~label.sk-toggleable__label {\n",
       "  color: var(--sklearn-color-text);\n",
       "  background-color: var(--sklearn-color-unfitted-level-2);\n",
       "}\n",
       "\n",
       "#sk-container-id-1 div.sk-label.fitted input.sk-toggleable__control:checked~label.sk-toggleable__label {\n",
       "  background-color: var(--sklearn-color-fitted-level-2);\n",
       "}\n",
       "\n",
       "/* Estimator-specific style */\n",
       "\n",
       "/* Colorize estimator box */\n",
       "#sk-container-id-1 div.sk-estimator input.sk-toggleable__control:checked~label.sk-toggleable__label {\n",
       "  /* unfitted */\n",
       "  background-color: var(--sklearn-color-unfitted-level-2);\n",
       "}\n",
       "\n",
       "#sk-container-id-1 div.sk-estimator.fitted input.sk-toggleable__control:checked~label.sk-toggleable__label {\n",
       "  /* fitted */\n",
       "  background-color: var(--sklearn-color-fitted-level-2);\n",
       "}\n",
       "\n",
       "#sk-container-id-1 div.sk-label label.sk-toggleable__label,\n",
       "#sk-container-id-1 div.sk-label label {\n",
       "  /* The background is the default theme color */\n",
       "  color: var(--sklearn-color-text-on-default-background);\n",
       "}\n",
       "\n",
       "/* On hover, darken the color of the background */\n",
       "#sk-container-id-1 div.sk-label:hover label.sk-toggleable__label {\n",
       "  color: var(--sklearn-color-text);\n",
       "  background-color: var(--sklearn-color-unfitted-level-2);\n",
       "}\n",
       "\n",
       "/* Label box, darken color on hover, fitted */\n",
       "#sk-container-id-1 div.sk-label.fitted:hover label.sk-toggleable__label.fitted {\n",
       "  color: var(--sklearn-color-text);\n",
       "  background-color: var(--sklearn-color-fitted-level-2);\n",
       "}\n",
       "\n",
       "/* Estimator label */\n",
       "\n",
       "#sk-container-id-1 div.sk-label label {\n",
       "  font-family: monospace;\n",
       "  font-weight: bold;\n",
       "  display: inline-block;\n",
       "  line-height: 1.2em;\n",
       "}\n",
       "\n",
       "#sk-container-id-1 div.sk-label-container {\n",
       "  text-align: center;\n",
       "}\n",
       "\n",
       "/* Estimator-specific */\n",
       "#sk-container-id-1 div.sk-estimator {\n",
       "  font-family: monospace;\n",
       "  border: 1px dotted var(--sklearn-color-border-box);\n",
       "  border-radius: 0.25em;\n",
       "  box-sizing: border-box;\n",
       "  margin-bottom: 0.5em;\n",
       "  /* unfitted */\n",
       "  background-color: var(--sklearn-color-unfitted-level-0);\n",
       "}\n",
       "\n",
       "#sk-container-id-1 div.sk-estimator.fitted {\n",
       "  /* fitted */\n",
       "  background-color: var(--sklearn-color-fitted-level-0);\n",
       "}\n",
       "\n",
       "/* on hover */\n",
       "#sk-container-id-1 div.sk-estimator:hover {\n",
       "  /* unfitted */\n",
       "  background-color: var(--sklearn-color-unfitted-level-2);\n",
       "}\n",
       "\n",
       "#sk-container-id-1 div.sk-estimator.fitted:hover {\n",
       "  /* fitted */\n",
       "  background-color: var(--sklearn-color-fitted-level-2);\n",
       "}\n",
       "\n",
       "/* Specification for estimator info (e.g. \"i\" and \"?\") */\n",
       "\n",
       "/* Common style for \"i\" and \"?\" */\n",
       "\n",
       ".sk-estimator-doc-link,\n",
       "a:link.sk-estimator-doc-link,\n",
       "a:visited.sk-estimator-doc-link {\n",
       "  float: right;\n",
       "  font-size: smaller;\n",
       "  line-height: 1em;\n",
       "  font-family: monospace;\n",
       "  background-color: var(--sklearn-color-background);\n",
       "  border-radius: 1em;\n",
       "  height: 1em;\n",
       "  width: 1em;\n",
       "  text-decoration: none !important;\n",
       "  margin-left: 0.5em;\n",
       "  text-align: center;\n",
       "  /* unfitted */\n",
       "  border: var(--sklearn-color-unfitted-level-1) 1pt solid;\n",
       "  color: var(--sklearn-color-unfitted-level-1);\n",
       "}\n",
       "\n",
       ".sk-estimator-doc-link.fitted,\n",
       "a:link.sk-estimator-doc-link.fitted,\n",
       "a:visited.sk-estimator-doc-link.fitted {\n",
       "  /* fitted */\n",
       "  border: var(--sklearn-color-fitted-level-1) 1pt solid;\n",
       "  color: var(--sklearn-color-fitted-level-1);\n",
       "}\n",
       "\n",
       "/* On hover */\n",
       "div.sk-estimator:hover .sk-estimator-doc-link:hover,\n",
       ".sk-estimator-doc-link:hover,\n",
       "div.sk-label-container:hover .sk-estimator-doc-link:hover,\n",
       ".sk-estimator-doc-link:hover {\n",
       "  /* unfitted */\n",
       "  background-color: var(--sklearn-color-unfitted-level-3);\n",
       "  color: var(--sklearn-color-background);\n",
       "  text-decoration: none;\n",
       "}\n",
       "\n",
       "div.sk-estimator.fitted:hover .sk-estimator-doc-link.fitted:hover,\n",
       ".sk-estimator-doc-link.fitted:hover,\n",
       "div.sk-label-container:hover .sk-estimator-doc-link.fitted:hover,\n",
       ".sk-estimator-doc-link.fitted:hover {\n",
       "  /* fitted */\n",
       "  background-color: var(--sklearn-color-fitted-level-3);\n",
       "  color: var(--sklearn-color-background);\n",
       "  text-decoration: none;\n",
       "}\n",
       "\n",
       "/* Span, style for the box shown on hovering the info icon */\n",
       ".sk-estimator-doc-link span {\n",
       "  display: none;\n",
       "  z-index: 9999;\n",
       "  position: relative;\n",
       "  font-weight: normal;\n",
       "  right: .2ex;\n",
       "  padding: .5ex;\n",
       "  margin: .5ex;\n",
       "  width: min-content;\n",
       "  min-width: 20ex;\n",
       "  max-width: 50ex;\n",
       "  color: var(--sklearn-color-text);\n",
       "  box-shadow: 2pt 2pt 4pt #999;\n",
       "  /* unfitted */\n",
       "  background: var(--sklearn-color-unfitted-level-0);\n",
       "  border: .5pt solid var(--sklearn-color-unfitted-level-3);\n",
       "}\n",
       "\n",
       ".sk-estimator-doc-link.fitted span {\n",
       "  /* fitted */\n",
       "  background: var(--sklearn-color-fitted-level-0);\n",
       "  border: var(--sklearn-color-fitted-level-3);\n",
       "}\n",
       "\n",
       ".sk-estimator-doc-link:hover span {\n",
       "  display: block;\n",
       "}\n",
       "\n",
       "/* \"?\"-specific style due to the `<a>` HTML tag */\n",
       "\n",
       "#sk-container-id-1 a.estimator_doc_link {\n",
       "  float: right;\n",
       "  font-size: 1rem;\n",
       "  line-height: 1em;\n",
       "  font-family: monospace;\n",
       "  background-color: var(--sklearn-color-background);\n",
       "  border-radius: 1rem;\n",
       "  height: 1rem;\n",
       "  width: 1rem;\n",
       "  text-decoration: none;\n",
       "  /* unfitted */\n",
       "  color: var(--sklearn-color-unfitted-level-1);\n",
       "  border: var(--sklearn-color-unfitted-level-1) 1pt solid;\n",
       "}\n",
       "\n",
       "#sk-container-id-1 a.estimator_doc_link.fitted {\n",
       "  /* fitted */\n",
       "  border: var(--sklearn-color-fitted-level-1) 1pt solid;\n",
       "  color: var(--sklearn-color-fitted-level-1);\n",
       "}\n",
       "\n",
       "/* On hover */\n",
       "#sk-container-id-1 a.estimator_doc_link:hover {\n",
       "  /* unfitted */\n",
       "  background-color: var(--sklearn-color-unfitted-level-3);\n",
       "  color: var(--sklearn-color-background);\n",
       "  text-decoration: none;\n",
       "}\n",
       "\n",
       "#sk-container-id-1 a.estimator_doc_link.fitted:hover {\n",
       "  /* fitted */\n",
       "  background-color: var(--sklearn-color-fitted-level-3);\n",
       "}\n",
       "</style><div id=\"sk-container-id-1\" class=\"sk-top-container\"><div class=\"sk-text-repr-fallback\"><pre>LogisticRegression(class_weight=&#x27;balanced&#x27;, max_iter=2500, random_state=42)</pre><b>In a Jupyter environment, please rerun this cell to show the HTML representation or trust the notebook. <br />On GitHub, the HTML representation is unable to render, please try loading this page with nbviewer.org.</b></div><div class=\"sk-container\" hidden><div class=\"sk-item\"><div class=\"sk-estimator fitted sk-toggleable\"><input class=\"sk-toggleable__control sk-hidden--visually\" id=\"sk-estimator-id-1\" type=\"checkbox\" checked><label for=\"sk-estimator-id-1\" class=\"sk-toggleable__label fitted sk-toggleable__label-arrow\"><div><div>LogisticRegression</div></div><div><a class=\"sk-estimator-doc-link fitted\" rel=\"noreferrer\" target=\"_blank\" href=\"https://scikit-learn.org/1.6/modules/generated/sklearn.linear_model.LogisticRegression.html\">?<span>Documentation for LogisticRegression</span></a><span class=\"sk-estimator-doc-link fitted\">i<span>Fitted</span></span></div></label><div class=\"sk-toggleable__content fitted\"><pre>LogisticRegression(class_weight=&#x27;balanced&#x27;, max_iter=2500, random_state=42)</pre></div> </div></div></div></div>"
      ],
      "text/plain": [
       "LogisticRegression(class_weight='balanced', max_iter=2500, random_state=42)"
      ]
     },
     "execution_count": 36,
     "metadata": {},
     "output_type": "execute_result"
    }
   ],
   "source": [
    "lr = LogisticRegression(class_weight='balanced', max_iter=2500, random_state=42)\n",
    "\n",
    "lr.fit(sub_X_train, sub_y_train)"
   ]
  },
  {
   "cell_type": "code",
   "execution_count": 37,
   "id": "63405103-a3ae-4fb4-abd8-d6af0c92271b",
   "metadata": {},
   "outputs": [],
   "source": [
    "sub_y_pred = lr.predict(sub_X_test)"
   ]
  },
  {
   "cell_type": "code",
   "execution_count": 38,
   "id": "0d6697d3-2ed7-4635-a1f8-79b3672e8dbd",
   "metadata": {},
   "outputs": [
    {
     "name": "stdout",
     "output_type": "stream",
     "text": [
      "              precision    recall  f1-score   support\n",
      "\n",
      "   ECLIPSING       0.73      0.92      0.81     17379\n",
      "    ERUPTIVE       0.05      0.67      0.09       647\n",
      "   PULSATING       0.61      0.42      0.50     20941\n",
      "    ROTATING       0.62      0.45      0.52     21034\n",
      "\n",
      "    accuracy                           0.58     60001\n",
      "   macro avg       0.50      0.61      0.48     60001\n",
      "weighted avg       0.64      0.58      0.59     60001\n",
      "\n"
     ]
    }
   ],
   "source": [
    "from sklearn.metrics import classification_report\n",
    "print(classification_report(sub_y_test, sub_y_pred, target_names=[\"ECLIPSING\", \"ERUPTIVE\", \"PULSATING\", \"ROTATING\"]))"
   ]
  },
  {
   "cell_type": "markdown",
   "id": "9aee1165-b7b0-4de2-872d-777f467269a3",
   "metadata": {},
   "source": [
    "#### ожидаемо, модель плохо научилась предсказывать редкий класс\n",
    "#### попробуем применить CatBoost, который автоматически учитывает дисбаланс классов"
   ]
  },
  {
   "cell_type": "code",
   "execution_count": 39,
   "id": "1cd6699f-7b18-4f81-99b8-5ca27676b331",
   "metadata": {},
   "outputs": [
    {
     "name": "stdout",
     "output_type": "stream",
     "text": [
      "CPU times: user 6min 21s, sys: 1min 29s, total: 7min 51s\n",
      "Wall time: 33.3 s\n"
     ]
    },
    {
     "data": {
      "text/plain": [
       "<catboost.core.CatBoostClassifier at 0x77a7ee1f35f0>"
      ]
     },
     "execution_count": 39,
     "metadata": {},
     "output_type": "execute_result"
    }
   ],
   "source": [
    "%%time\n",
    "\n",
    "from catboost import CatBoostClassifier\n",
    "\n",
    "cb = CatBoostClassifier(auto_class_weights='Balanced', eval_metric='TotalF1', random_state=42)\n",
    "cb.fit(\n",
    "    sub_X_train, sub_y_train,\n",
    "    logging_level='Silent',    \n",
    ")"
   ]
  },
  {
   "cell_type": "code",
   "execution_count": 40,
   "id": "e8c9054c-7c91-4d8e-b108-d7f3db200bf2",
   "metadata": {},
   "outputs": [],
   "source": [
    "sub_y_pred = cb.predict(sub_X_test)"
   ]
  },
  {
   "cell_type": "code",
   "execution_count": 41,
   "id": "cd1da4a2-3809-43f8-836d-994a0c8e9adc",
   "metadata": {},
   "outputs": [
    {
     "name": "stdout",
     "output_type": "stream",
     "text": [
      "              precision    recall  f1-score   support\n",
      "\n",
      "   ECLIPSING       0.96      0.92      0.94     18169\n",
      "    ERUPTIVE       0.79      0.23      0.36      2216\n",
      "   PULSATING       0.89      0.94      0.91     19755\n",
      "    ROTATING       0.89      0.95      0.92     19861\n",
      "\n",
      "    accuracy                           0.91     60001\n",
      "   macro avg       0.88      0.76      0.78     60001\n",
      "weighted avg       0.91      0.91      0.90     60001\n",
      "\n"
     ]
    }
   ],
   "source": [
    "print(classification_report(sub_y_pred, sub_y_test, target_names=[\"ECLIPSING\", \"ERUPTIVE\", \"PULSATING\", \"ROTATING\"]))"
   ]
  },
  {
   "cell_type": "code",
   "execution_count": 42,
   "id": "3064b671-4125-4c78-bf91-41c66705ff1f",
   "metadata": {},
   "outputs": [
    {
     "data": {
      "image/png": "[encoded data removed]",
      "text/plain": [
       "<Figure size 1600x1200 with 2 Axes>"
      ]
     },
     "metadata": {},
     "output_type": "display_data"
    }
   ],
   "source": [
    "from sklearn.metrics import confusion_matrix\n",
    "\n",
    "cm = confusion_matrix(sub_y_pred, sub_y_test)\n",
    "sns.heatmap(cm, annot=True, fmt='d', cmap='Blues')\n",
    "plt.xlabel('Predicted')\n",
    "plt.ylabel('Actual')\n",
    "plt.title(f'Матрица ошибок')\n",
    "plt.show()"
   ]
  },
  {
   "cell_type": "markdown",
   "id": "596913b7-d994-4e07-a028-b35a78b84313",
   "metadata": {},
   "source": [
    "был применен андерсемплинг (использован алгоритм NearMiss из библиотеки imblearn), но результат улучшить не получилось"
   ]
  },
  {
   "cell_type": "code",
   "execution_count": 43,
   "id": "58a1a6d3-f23f-499d-b515-d006d4483420",
   "metadata": {},
   "outputs": [],
   "source": [
    "# попробуем обучить eruptive-детектор; если он уверен хотя бы на 70%, поменяем класс предсказания изначального бустинга на eruptive\n",
    "\n",
    "sub_y_train_eruptive = (sub_y_train == 1).astype(int)\n",
    "sub_y_test_eruptive = (sub_y_test == 1).astype(int)\n",
    "sub_y_eruptive = (sub_y == 1).astype(int)"
   ]
  },
  {
   "cell_type": "code",
   "execution_count": 44,
   "id": "b106028b-9ccf-4c41-8aca-3c39feb7f39f",
   "metadata": {},
   "outputs": [],
   "source": [
    "# используем optuna для подбора гиперпараметров\n",
    "\n",
    "import optuna\n",
    "from sklearn.metrics import f1_score\n",
    "from sklearn.model_selection import StratifiedKFold\n",
    "import numpy as np"
   ]
  },
  {
   "cell_type": "code",
   "execution_count": 45,
   "id": "0805dc1b-5a0b-4cae-8edb-2cb0a33e8438",
   "metadata": {},
   "outputs": [],
   "source": [
    "def objective(trial):\n",
    "    params = {\n",
    "        'depth': trial.suggest_int('depth', 4, 12),\n",
    "        'learning_rate': trial.suggest_float('lr', 0.01, 0.3),\n",
    "        'l2_leaf_reg': trial.suggest_float('l2', 1e-5, 10),\n",
    "        'class_weights': [1, trial.suggest_int('eruptive_weight', 10, 50)],\n",
    "        'iterations': trial.suggest_int('iterations', 500, 3000),\n",
    "        'border_count': trial.suggest_int('border_count', 32, 255),\n",
    "        'random_strength': trial.suggest_float('random_strength', 1e-3, 10)\n",
    "    }\n",
    "    \n",
    "    model = CatBoostClassifier(\n",
    "        **params,\n",
    "        eval_metric='Recall',\n",
    "        early_stopping_rounds=50,\n",
    "        verbose=0\n",
    "    )\n",
    "    \n",
    "    scores = []\n",
    "    cv = StratifiedKFold(n_splits=3, shuffle=True)\n",
    "    \n",
    "    for train_idx, val_idx in cv.split(sub_X, sub_y_eruptive):\n",
    "        X_train, X_val = sub_X.iloc[train_idx], sub_X.iloc[val_idx]\n",
    "        y_train, y_val = sub_y_eruptive.iloc[train_idx], sub_y_eruptive.iloc[val_idx]\n",
    "        \n",
    "        model.fit(X_train, y_train)\n",
    "        probs = model.predict_proba(X_val)[:, 1]\n",
    "        preds = (probs > 0.5).astype(int)\n",
    "        scores.append(f1_score(y_val, preds))\n",
    "    \n",
    "    return np.mean(scores)"
   ]
  },
  {
   "cell_type": "code",
   "execution_count": 46,
   "id": "bd481fc5-5aa3-446c-b8e0-0580c3f603e1",
   "metadata": {},
   "outputs": [
    {
     "name": "stderr",
     "output_type": "stream",
     "text": [
      "[I 2025-05-04 23:18:15,612] A new study created in memory with name: no-name-145fc07e-9781-4602-bb79-8f33d0ed22b4\n",
      "[I 2025-05-04 23:21:26,800] Trial 0 finished with value: 0.5511789169669447 and parameters: {'depth': 10, 'lr': 0.22610854486127743, 'l2': 3.409325804596965, 'eruptive_weight': 39, 'iterations': 2499, 'border_count': 249, 'random_strength': 6.895250626994621}. Best is trial 0 with value: 0.5511789169669447.\n",
      "[W 2025-05-04 23:22:33,967] Trial 1 failed with parameters: {'depth': 11, 'lr': 0.18255251538210615, 'l2': 2.293023260024277, 'eruptive_weight': 20, 'iterations': 2895, 'border_count': 37, 'random_strength': 5.2669980878373615} because of the following error: KeyboardInterrupt('').\n",
      "Traceback (most recent call last):\n",
      "  File \"/home/stalskyle/Рабочий стол/for_ml/lib/python3.12/site-packages/optuna/study/_optimize.py\", line 197, in _run_trial\n",
      "    value_or_values = func(trial)\n",
      "                      ^^^^^^^^^^^\n",
      "  File \"/tmp/ipykernel_20257/3328431186.py\", line 26, in objective\n",
      "    model.fit(X_train, y_train)\n",
      "  File \"/home/stalskyle/Рабочий стол/for_ml/lib/python3.12/site-packages/catboost/core.py\", line 5245, in fit\n",
      "    self._fit(X, y, cat_features, text_features, embedding_features, None, graph, sample_weight, None, None, None, None, baseline, use_best_model,\n",
      "  File \"/home/stalskyle/Рабочий стол/for_ml/lib/python3.12/site-packages/catboost/core.py\", line 2410, in _fit\n",
      "    self._train(\n",
      "  File \"/home/stalskyle/Рабочий стол/for_ml/lib/python3.12/site-packages/catboost/core.py\", line 1790, in _train\n",
      "    self._object._train(train_pool, test_pool, params, allow_clear_pool, init_model._object if init_model else None)\n",
      "  File \"_catboost.pyx\", line 5023, in _catboost._CatBoost._train\n",
      "  File \"_catboost.pyx\", line 5072, in _catboost._CatBoost._train\n",
      "KeyboardInterrupt\n",
      "[W 2025-05-04 23:22:33,969] Trial 1 failed with value None.\n"
     ]
    },
    {
     "ename": "KeyboardInterrupt",
     "evalue": "",
     "output_type": "error",
     "traceback": [
      "\u001b[0;31m---------------------------------------------------------------------------\u001b[0m",
      "\u001b[0;31mKeyboardInterrupt\u001b[0m                         Traceback (most recent call last)",
      "File \u001b[0;32m<timed exec>:2\u001b[0m\n",
      "File \u001b[0;32m~/Рабочий стол/for_ml/lib/python3.12/site-packages/optuna/study/study.py:475\u001b[0m, in \u001b[0;36mStudy.optimize\u001b[0;34m(self, func, n_trials, timeout, n_jobs, catch, callbacks, gc_after_trial, show_progress_bar)\u001b[0m\n\u001b[1;32m    373\u001b[0m \u001b[38;5;28;01mdef\u001b[39;00m \u001b[38;5;21moptimize\u001b[39m(\n\u001b[1;32m    374\u001b[0m     \u001b[38;5;28mself\u001b[39m,\n\u001b[1;32m    375\u001b[0m     func: ObjectiveFuncType,\n\u001b[0;32m   (...)\u001b[0m\n\u001b[1;32m    382\u001b[0m     show_progress_bar: \u001b[38;5;28mbool\u001b[39m \u001b[38;5;241m=\u001b[39m \u001b[38;5;28;01mFalse\u001b[39;00m,\n\u001b[1;32m    383\u001b[0m ) \u001b[38;5;241m-\u001b[39m\u001b[38;5;241m>\u001b[39m \u001b[38;5;28;01mNone\u001b[39;00m:\n\u001b[1;32m    384\u001b[0m \u001b[38;5;250m    \u001b[39m\u001b[38;5;124;03m\"\"\"Optimize an objective function.\u001b[39;00m\n\u001b[1;32m    385\u001b[0m \n\u001b[1;32m    386\u001b[0m \u001b[38;5;124;03m    Optimization is done by choosing a suitable set of hyperparameter values from a given\u001b[39;00m\n\u001b[0;32m   (...)\u001b[0m\n\u001b[1;32m    473\u001b[0m \u001b[38;5;124;03m            If nested invocation of this method occurs.\u001b[39;00m\n\u001b[1;32m    474\u001b[0m \u001b[38;5;124;03m    \"\"\"\u001b[39;00m\n\u001b[0;32m--> 475\u001b[0m     \u001b[43m_optimize\u001b[49m\u001b[43m(\u001b[49m\n\u001b[1;32m    476\u001b[0m \u001b[43m        \u001b[49m\u001b[43mstudy\u001b[49m\u001b[38;5;241;43m=\u001b[39;49m\u001b[38;5;28;43mself\u001b[39;49m\u001b[43m,\u001b[49m\n\u001b[1;32m    477\u001b[0m \u001b[43m        \u001b[49m\u001b[43mfunc\u001b[49m\u001b[38;5;241;43m=\u001b[39;49m\u001b[43mfunc\u001b[49m\u001b[43m,\u001b[49m\n\u001b[1;32m    478\u001b[0m \u001b[43m        \u001b[49m\u001b[43mn_trials\u001b[49m\u001b[38;5;241;43m=\u001b[39;49m\u001b[43mn_trials\u001b[49m\u001b[43m,\u001b[49m\n\u001b[1;32m    479\u001b[0m \u001b[43m        \u001b[49m\u001b[43mtimeout\u001b[49m\u001b[38;5;241;43m=\u001b[39;49m\u001b[43mtimeout\u001b[49m\u001b[43m,\u001b[49m\n\u001b[1;32m    480\u001b[0m \u001b[43m        \u001b[49m\u001b[43mn_jobs\u001b[49m\u001b[38;5;241;43m=\u001b[39;49m\u001b[43mn_jobs\u001b[49m\u001b[43m,\u001b[49m\n\u001b[1;32m    481\u001b[0m \u001b[43m        \u001b[49m\u001b[43mcatch\u001b[49m\u001b[38;5;241;43m=\u001b[39;49m\u001b[38;5;28;43mtuple\u001b[39;49m\u001b[43m(\u001b[49m\u001b[43mcatch\u001b[49m\u001b[43m)\u001b[49m\u001b[43m \u001b[49m\u001b[38;5;28;43;01mif\u001b[39;49;00m\u001b[43m \u001b[49m\u001b[38;5;28;43misinstance\u001b[39;49m\u001b[43m(\u001b[49m\u001b[43mcatch\u001b[49m\u001b[43m,\u001b[49m\u001b[43m \u001b[49m\u001b[43mIterable\u001b[49m\u001b[43m)\u001b[49m\u001b[43m \u001b[49m\u001b[38;5;28;43;01melse\u001b[39;49;00m\u001b[43m \u001b[49m\u001b[43m(\u001b[49m\u001b[43mcatch\u001b[49m\u001b[43m,\u001b[49m\u001b[43m)\u001b[49m\u001b[43m,\u001b[49m\n\u001b[1;32m    482\u001b[0m \u001b[43m        \u001b[49m\u001b[43mcallbacks\u001b[49m\u001b[38;5;241;43m=\u001b[39;49m\u001b[43mcallbacks\u001b[49m\u001b[43m,\u001b[49m\n\u001b[1;32m    483\u001b[0m \u001b[43m        \u001b[49m\u001b[43mgc_after_trial\u001b[49m\u001b[38;5;241;43m=\u001b[39;49m\u001b[43mgc_after_trial\u001b[49m\u001b[43m,\u001b[49m\n\u001b[1;32m    484\u001b[0m \u001b[43m        \u001b[49m\u001b[43mshow_progress_bar\u001b[49m\u001b[38;5;241;43m=\u001b[39;49m\u001b[43mshow_progress_bar\u001b[49m\u001b[43m,\u001b[49m\n\u001b[1;32m    485\u001b[0m \u001b[43m    \u001b[49m\u001b[43m)\u001b[49m\n",
      "File \u001b[0;32m~/Рабочий стол/for_ml/lib/python3.12/site-packages/optuna/study/_optimize.py:63\u001b[0m, in \u001b[0;36m_optimize\u001b[0;34m(study, func, n_trials, timeout, n_jobs, catch, callbacks, gc_after_trial, show_progress_bar)\u001b[0m\n\u001b[1;32m     61\u001b[0m \u001b[38;5;28;01mtry\u001b[39;00m:\n\u001b[1;32m     62\u001b[0m     \u001b[38;5;28;01mif\u001b[39;00m n_jobs \u001b[38;5;241m==\u001b[39m \u001b[38;5;241m1\u001b[39m:\n\u001b[0;32m---> 63\u001b[0m         \u001b[43m_optimize_sequential\u001b[49m\u001b[43m(\u001b[49m\n\u001b[1;32m     64\u001b[0m \u001b[43m            \u001b[49m\u001b[43mstudy\u001b[49m\u001b[43m,\u001b[49m\n\u001b[1;32m     65\u001b[0m \u001b[43m            \u001b[49m\u001b[43mfunc\u001b[49m\u001b[43m,\u001b[49m\n\u001b[1;32m     66\u001b[0m \u001b[43m            \u001b[49m\u001b[43mn_trials\u001b[49m\u001b[43m,\u001b[49m\n\u001b[1;32m     67\u001b[0m \u001b[43m            \u001b[49m\u001b[43mtimeout\u001b[49m\u001b[43m,\u001b[49m\n\u001b[1;32m     68\u001b[0m \u001b[43m            \u001b[49m\u001b[43mcatch\u001b[49m\u001b[43m,\u001b[49m\n\u001b[1;32m     69\u001b[0m \u001b[43m            \u001b[49m\u001b[43mcallbacks\u001b[49m\u001b[43m,\u001b[49m\n\u001b[1;32m     70\u001b[0m \u001b[43m            \u001b[49m\u001b[43mgc_after_trial\u001b[49m\u001b[43m,\u001b[49m\n\u001b[1;32m     71\u001b[0m \u001b[43m            \u001b[49m\u001b[43mreseed_sampler_rng\u001b[49m\u001b[38;5;241;43m=\u001b[39;49m\u001b[38;5;28;43;01mFalse\u001b[39;49;00m\u001b[43m,\u001b[49m\n\u001b[1;32m     72\u001b[0m \u001b[43m            \u001b[49m\u001b[43mtime_start\u001b[49m\u001b[38;5;241;43m=\u001b[39;49m\u001b[38;5;28;43;01mNone\u001b[39;49;00m\u001b[43m,\u001b[49m\n\u001b[1;32m     73\u001b[0m \u001b[43m            \u001b[49m\u001b[43mprogress_bar\u001b[49m\u001b[38;5;241;43m=\u001b[39;49m\u001b[43mprogress_bar\u001b[49m\u001b[43m,\u001b[49m\n\u001b[1;32m     74\u001b[0m \u001b[43m        \u001b[49m\u001b[43m)\u001b[49m\n\u001b[1;32m     75\u001b[0m     \u001b[38;5;28;01melse\u001b[39;00m:\n\u001b[1;32m     76\u001b[0m         \u001b[38;5;28;01mif\u001b[39;00m n_jobs \u001b[38;5;241m==\u001b[39m \u001b[38;5;241m-\u001b[39m\u001b[38;5;241m1\u001b[39m:\n",
      "File \u001b[0;32m~/Рабочий стол/for_ml/lib/python3.12/site-packages/optuna/study/_optimize.py:160\u001b[0m, in \u001b[0;36m_optimize_sequential\u001b[0;34m(study, func, n_trials, timeout, catch, callbacks, gc_after_trial, reseed_sampler_rng, time_start, progress_bar)\u001b[0m\n\u001b[1;32m    157\u001b[0m         \u001b[38;5;28;01mbreak\u001b[39;00m\n\u001b[1;32m    159\u001b[0m \u001b[38;5;28;01mtry\u001b[39;00m:\n\u001b[0;32m--> 160\u001b[0m     frozen_trial \u001b[38;5;241m=\u001b[39m \u001b[43m_run_trial\u001b[49m\u001b[43m(\u001b[49m\u001b[43mstudy\u001b[49m\u001b[43m,\u001b[49m\u001b[43m \u001b[49m\u001b[43mfunc\u001b[49m\u001b[43m,\u001b[49m\u001b[43m \u001b[49m\u001b[43mcatch\u001b[49m\u001b[43m)\u001b[49m\n\u001b[1;32m    161\u001b[0m \u001b[38;5;28;01mfinally\u001b[39;00m:\n\u001b[1;32m    162\u001b[0m     \u001b[38;5;66;03m# The following line mitigates memory problems that can be occurred in some\u001b[39;00m\n\u001b[1;32m    163\u001b[0m     \u001b[38;5;66;03m# environments (e.g., services that use computing containers such as GitHub Actions).\u001b[39;00m\n\u001b[1;32m    164\u001b[0m     \u001b[38;5;66;03m# Please refer to the following PR for further details:\u001b[39;00m\n\u001b[1;32m    165\u001b[0m     \u001b[38;5;66;03m# https://github.com/optuna/optuna/pull/325.\u001b[39;00m\n\u001b[1;32m    166\u001b[0m     \u001b[38;5;28;01mif\u001b[39;00m gc_after_trial:\n",
      "File \u001b[0;32m~/Рабочий стол/for_ml/lib/python3.12/site-packages/optuna/study/_optimize.py:248\u001b[0m, in \u001b[0;36m_run_trial\u001b[0;34m(study, func, catch)\u001b[0m\n\u001b[1;32m    241\u001b[0m         \u001b[38;5;28;01massert\u001b[39;00m \u001b[38;5;28;01mFalse\u001b[39;00m, \u001b[38;5;124m\"\u001b[39m\u001b[38;5;124mShould not reach.\u001b[39m\u001b[38;5;124m\"\u001b[39m\n\u001b[1;32m    243\u001b[0m \u001b[38;5;28;01mif\u001b[39;00m (\n\u001b[1;32m    244\u001b[0m     frozen_trial\u001b[38;5;241m.\u001b[39mstate \u001b[38;5;241m==\u001b[39m TrialState\u001b[38;5;241m.\u001b[39mFAIL\n\u001b[1;32m    245\u001b[0m     \u001b[38;5;129;01mand\u001b[39;00m func_err \u001b[38;5;129;01mis\u001b[39;00m \u001b[38;5;129;01mnot\u001b[39;00m \u001b[38;5;28;01mNone\u001b[39;00m\n\u001b[1;32m    246\u001b[0m     \u001b[38;5;129;01mand\u001b[39;00m \u001b[38;5;129;01mnot\u001b[39;00m \u001b[38;5;28misinstance\u001b[39m(func_err, catch)\n\u001b[1;32m    247\u001b[0m ):\n\u001b[0;32m--> 248\u001b[0m     \u001b[38;5;28;01mraise\u001b[39;00m func_err\n\u001b[1;32m    249\u001b[0m \u001b[38;5;28;01mreturn\u001b[39;00m frozen_trial\n",
      "File \u001b[0;32m~/Рабочий стол/for_ml/lib/python3.12/site-packages/optuna/study/_optimize.py:197\u001b[0m, in \u001b[0;36m_run_trial\u001b[0;34m(study, func, catch)\u001b[0m\n\u001b[1;32m    195\u001b[0m \u001b[38;5;28;01mwith\u001b[39;00m get_heartbeat_thread(trial\u001b[38;5;241m.\u001b[39m_trial_id, study\u001b[38;5;241m.\u001b[39m_storage):\n\u001b[1;32m    196\u001b[0m     \u001b[38;5;28;01mtry\u001b[39;00m:\n\u001b[0;32m--> 197\u001b[0m         value_or_values \u001b[38;5;241m=\u001b[39m \u001b[43mfunc\u001b[49m\u001b[43m(\u001b[49m\u001b[43mtrial\u001b[49m\u001b[43m)\u001b[49m\n\u001b[1;32m    198\u001b[0m     \u001b[38;5;28;01mexcept\u001b[39;00m exceptions\u001b[38;5;241m.\u001b[39mTrialPruned \u001b[38;5;28;01mas\u001b[39;00m e:\n\u001b[1;32m    199\u001b[0m         \u001b[38;5;66;03m# TODO(mamu): Handle multi-objective cases.\u001b[39;00m\n\u001b[1;32m    200\u001b[0m         state \u001b[38;5;241m=\u001b[39m TrialState\u001b[38;5;241m.\u001b[39mPRUNED\n",
      "Cell \u001b[0;32mIn[45], line 26\u001b[0m, in \u001b[0;36mobjective\u001b[0;34m(trial)\u001b[0m\n\u001b[1;32m     23\u001b[0m X_train, X_val \u001b[38;5;241m=\u001b[39m sub_X\u001b[38;5;241m.\u001b[39miloc[train_idx], sub_X\u001b[38;5;241m.\u001b[39miloc[val_idx]\n\u001b[1;32m     24\u001b[0m y_train, y_val \u001b[38;5;241m=\u001b[39m sub_y_eruptive\u001b[38;5;241m.\u001b[39miloc[train_idx], sub_y_eruptive\u001b[38;5;241m.\u001b[39miloc[val_idx]\n\u001b[0;32m---> 26\u001b[0m \u001b[43mmodel\u001b[49m\u001b[38;5;241;43m.\u001b[39;49m\u001b[43mfit\u001b[49m\u001b[43m(\u001b[49m\u001b[43mX_train\u001b[49m\u001b[43m,\u001b[49m\u001b[43m \u001b[49m\u001b[43my_train\u001b[49m\u001b[43m)\u001b[49m\n\u001b[1;32m     27\u001b[0m probs \u001b[38;5;241m=\u001b[39m model\u001b[38;5;241m.\u001b[39mpredict_proba(X_val)[:, \u001b[38;5;241m1\u001b[39m]\n\u001b[1;32m     28\u001b[0m preds \u001b[38;5;241m=\u001b[39m (probs \u001b[38;5;241m>\u001b[39m \u001b[38;5;241m0.5\u001b[39m)\u001b[38;5;241m.\u001b[39mastype(\u001b[38;5;28mint\u001b[39m)\n",
      "File \u001b[0;32m~/Рабочий стол/for_ml/lib/python3.12/site-packages/catboost/core.py:5245\u001b[0m, in \u001b[0;36mCatBoostClassifier.fit\u001b[0;34m(self, X, y, cat_features, text_features, embedding_features, graph, sample_weight, baseline, use_best_model, eval_set, verbose, logging_level, plot, plot_file, column_description, verbose_eval, metric_period, silent, early_stopping_rounds, save_snapshot, snapshot_file, snapshot_interval, init_model, callbacks, log_cout, log_cerr)\u001b[0m\n\u001b[1;32m   5242\u001b[0m \u001b[38;5;28;01mif\u001b[39;00m \u001b[38;5;124m'\u001b[39m\u001b[38;5;124mloss_function\u001b[39m\u001b[38;5;124m'\u001b[39m \u001b[38;5;129;01min\u001b[39;00m params:\n\u001b[1;32m   5243\u001b[0m     CatBoostClassifier\u001b[38;5;241m.\u001b[39m_check_is_compatible_loss(params[\u001b[38;5;124m'\u001b[39m\u001b[38;5;124mloss_function\u001b[39m\u001b[38;5;124m'\u001b[39m])\n\u001b[0;32m-> 5245\u001b[0m \u001b[38;5;28;43mself\u001b[39;49m\u001b[38;5;241;43m.\u001b[39;49m\u001b[43m_fit\u001b[49m\u001b[43m(\u001b[49m\u001b[43mX\u001b[49m\u001b[43m,\u001b[49m\u001b[43m \u001b[49m\u001b[43my\u001b[49m\u001b[43m,\u001b[49m\u001b[43m \u001b[49m\u001b[43mcat_features\u001b[49m\u001b[43m,\u001b[49m\u001b[43m \u001b[49m\u001b[43mtext_features\u001b[49m\u001b[43m,\u001b[49m\u001b[43m \u001b[49m\u001b[43membedding_features\u001b[49m\u001b[43m,\u001b[49m\u001b[43m \u001b[49m\u001b[38;5;28;43;01mNone\u001b[39;49;00m\u001b[43m,\u001b[49m\u001b[43m \u001b[49m\u001b[43mgraph\u001b[49m\u001b[43m,\u001b[49m\u001b[43m \u001b[49m\u001b[43msample_weight\u001b[49m\u001b[43m,\u001b[49m\u001b[43m \u001b[49m\u001b[38;5;28;43;01mNone\u001b[39;49;00m\u001b[43m,\u001b[49m\u001b[43m \u001b[49m\u001b[38;5;28;43;01mNone\u001b[39;49;00m\u001b[43m,\u001b[49m\u001b[43m \u001b[49m\u001b[38;5;28;43;01mNone\u001b[39;49;00m\u001b[43m,\u001b[49m\u001b[43m \u001b[49m\u001b[38;5;28;43;01mNone\u001b[39;49;00m\u001b[43m,\u001b[49m\u001b[43m \u001b[49m\u001b[43mbaseline\u001b[49m\u001b[43m,\u001b[49m\u001b[43m \u001b[49m\u001b[43muse_best_model\u001b[49m\u001b[43m,\u001b[49m\n\u001b[1;32m   5246\u001b[0m \u001b[43m          \u001b[49m\u001b[43meval_set\u001b[49m\u001b[43m,\u001b[49m\u001b[43m \u001b[49m\u001b[43mverbose\u001b[49m\u001b[43m,\u001b[49m\u001b[43m \u001b[49m\u001b[43mlogging_level\u001b[49m\u001b[43m,\u001b[49m\u001b[43m \u001b[49m\u001b[43mplot\u001b[49m\u001b[43m,\u001b[49m\u001b[43m \u001b[49m\u001b[43mplot_file\u001b[49m\u001b[43m,\u001b[49m\u001b[43m \u001b[49m\u001b[43mcolumn_description\u001b[49m\u001b[43m,\u001b[49m\u001b[43m \u001b[49m\u001b[43mverbose_eval\u001b[49m\u001b[43m,\u001b[49m\u001b[43m \u001b[49m\u001b[43mmetric_period\u001b[49m\u001b[43m,\u001b[49m\n\u001b[1;32m   5247\u001b[0m \u001b[43m          \u001b[49m\u001b[43msilent\u001b[49m\u001b[43m,\u001b[49m\u001b[43m \u001b[49m\u001b[43mearly_stopping_rounds\u001b[49m\u001b[43m,\u001b[49m\u001b[43m \u001b[49m\u001b[43msave_snapshot\u001b[49m\u001b[43m,\u001b[49m\u001b[43m \u001b[49m\u001b[43msnapshot_file\u001b[49m\u001b[43m,\u001b[49m\u001b[43m \u001b[49m\u001b[43msnapshot_interval\u001b[49m\u001b[43m,\u001b[49m\u001b[43m \u001b[49m\u001b[43minit_model\u001b[49m\u001b[43m,\u001b[49m\u001b[43m \u001b[49m\u001b[43mcallbacks\u001b[49m\u001b[43m,\u001b[49m\u001b[43m \u001b[49m\u001b[43mlog_cout\u001b[49m\u001b[43m,\u001b[49m\u001b[43m \u001b[49m\u001b[43mlog_cerr\u001b[49m\u001b[43m)\u001b[49m\n\u001b[1;32m   5248\u001b[0m \u001b[38;5;28;01mreturn\u001b[39;00m \u001b[38;5;28mself\u001b[39m\n",
      "File \u001b[0;32m~/Рабочий стол/for_ml/lib/python3.12/site-packages/catboost/core.py:2410\u001b[0m, in \u001b[0;36mCatBoost._fit\u001b[0;34m(self, X, y, cat_features, text_features, embedding_features, pairs, graph, sample_weight, group_id, group_weight, subgroup_id, pairs_weight, baseline, use_best_model, eval_set, verbose, logging_level, plot, plot_file, column_description, verbose_eval, metric_period, silent, early_stopping_rounds, save_snapshot, snapshot_file, snapshot_interval, init_model, callbacks, log_cout, log_cerr)\u001b[0m\n\u001b[1;32m   2407\u001b[0m allow_clear_pool \u001b[38;5;241m=\u001b[39m train_params[\u001b[38;5;124m\"\u001b[39m\u001b[38;5;124mallow_clear_pool\u001b[39m\u001b[38;5;124m\"\u001b[39m]\n\u001b[1;32m   2409\u001b[0m \u001b[38;5;28;01mwith\u001b[39;00m plot_wrapper(plot, plot_file, \u001b[38;5;124m'\u001b[39m\u001b[38;5;124mTraining plots\u001b[39m\u001b[38;5;124m'\u001b[39m, [_get_train_dir(\u001b[38;5;28mself\u001b[39m\u001b[38;5;241m.\u001b[39mget_params())]):\n\u001b[0;32m-> 2410\u001b[0m     \u001b[38;5;28;43mself\u001b[39;49m\u001b[38;5;241;43m.\u001b[39;49m\u001b[43m_train\u001b[49m\u001b[43m(\u001b[49m\n\u001b[1;32m   2411\u001b[0m \u001b[43m        \u001b[49m\u001b[43mtrain_pool\u001b[49m\u001b[43m,\u001b[49m\n\u001b[1;32m   2412\u001b[0m \u001b[43m        \u001b[49m\u001b[43mtrain_params\u001b[49m\u001b[43m[\u001b[49m\u001b[38;5;124;43m\"\u001b[39;49m\u001b[38;5;124;43meval_sets\u001b[39;49m\u001b[38;5;124;43m\"\u001b[39;49m\u001b[43m]\u001b[49m\u001b[43m,\u001b[49m\n\u001b[1;32m   2413\u001b[0m \u001b[43m        \u001b[49m\u001b[43mparams\u001b[49m\u001b[43m,\u001b[49m\n\u001b[1;32m   2414\u001b[0m \u001b[43m        \u001b[49m\u001b[43mallow_clear_pool\u001b[49m\u001b[43m,\u001b[49m\n\u001b[1;32m   2415\u001b[0m \u001b[43m        \u001b[49m\u001b[43mtrain_params\u001b[49m\u001b[43m[\u001b[49m\u001b[38;5;124;43m\"\u001b[39;49m\u001b[38;5;124;43minit_model\u001b[39;49m\u001b[38;5;124;43m\"\u001b[39;49m\u001b[43m]\u001b[49m\n\u001b[1;32m   2416\u001b[0m \u001b[43m    \u001b[49m\u001b[43m)\u001b[49m\n\u001b[1;32m   2418\u001b[0m \u001b[38;5;66;03m# Have property feature_importance possibly set\u001b[39;00m\n\u001b[1;32m   2419\u001b[0m loss \u001b[38;5;241m=\u001b[39m \u001b[38;5;28mself\u001b[39m\u001b[38;5;241m.\u001b[39m_object\u001b[38;5;241m.\u001b[39m_get_loss_function_name()\n",
      "File \u001b[0;32m~/Рабочий стол/for_ml/lib/python3.12/site-packages/catboost/core.py:1790\u001b[0m, in \u001b[0;36m_CatBoostBase._train\u001b[0;34m(self, train_pool, test_pool, params, allow_clear_pool, init_model)\u001b[0m\n\u001b[1;32m   1789\u001b[0m \u001b[38;5;28;01mdef\u001b[39;00m \u001b[38;5;21m_train\u001b[39m(\u001b[38;5;28mself\u001b[39m, train_pool, test_pool, params, allow_clear_pool, init_model):\n\u001b[0;32m-> 1790\u001b[0m     \u001b[38;5;28;43mself\u001b[39;49m\u001b[38;5;241;43m.\u001b[39;49m\u001b[43m_object\u001b[49m\u001b[38;5;241;43m.\u001b[39;49m\u001b[43m_train\u001b[49m\u001b[43m(\u001b[49m\u001b[43mtrain_pool\u001b[49m\u001b[43m,\u001b[49m\u001b[43m \u001b[49m\u001b[43mtest_pool\u001b[49m\u001b[43m,\u001b[49m\u001b[43m \u001b[49m\u001b[43mparams\u001b[49m\u001b[43m,\u001b[49m\u001b[43m \u001b[49m\u001b[43mallow_clear_pool\u001b[49m\u001b[43m,\u001b[49m\u001b[43m \u001b[49m\u001b[43minit_model\u001b[49m\u001b[38;5;241;43m.\u001b[39;49m\u001b[43m_object\u001b[49m\u001b[43m \u001b[49m\u001b[38;5;28;43;01mif\u001b[39;49;00m\u001b[43m \u001b[49m\u001b[43minit_model\u001b[49m\u001b[43m \u001b[49m\u001b[38;5;28;43;01melse\u001b[39;49;00m\u001b[43m \u001b[49m\u001b[38;5;28;43;01mNone\u001b[39;49;00m\u001b[43m)\u001b[49m\n\u001b[1;32m   1791\u001b[0m     \u001b[38;5;28mself\u001b[39m\u001b[38;5;241m.\u001b[39m_set_trained_model_attributes()\n",
      "File \u001b[0;32m_catboost.pyx:5023\u001b[0m, in \u001b[0;36m_catboost._CatBoost._train\u001b[0;34m()\u001b[0m\n",
      "File \u001b[0;32m_catboost.pyx:5072\u001b[0m, in \u001b[0;36m_catboost._CatBoost._train\u001b[0;34m()\u001b[0m\n",
      "\u001b[0;31mKeyboardInterrupt\u001b[0m: "
     ]
    }
   ],
   "source": [
    "%%time\n",
    "study = optuna.create_study(direction='maximize')\n",
    "study.optimize(objective, n_trials=50, timeout=3600)"
   ]
  },
  {
   "cell_type": "code",
   "execution_count": 56,
   "id": "05641f87-c51a-44a2-8b31-612817565821",
   "metadata": {},
   "outputs": [],
   "source": [
    "eruptive_cb = CatBoostClassifier(\n",
    "    depth=9,\n",
    "    learning_rate=0.21556,\n",
    "    l2_leaf_reg=3.63233,\n",
    "    class_weights=[1, 16],\n",
    "    iterations=2062,\n",
    "    border_count=255,\n",
    "    random_strength=3.84679,\n",
    "    random_state=42\n",
    ")"
   ]
  },
  {
   "cell_type": "code",
   "execution_count": 48,
   "id": "5101e4ba-2e85-4af8-8c11-744c57bb7f7c",
   "metadata": {},
   "outputs": [
    {
     "data": {
      "text/plain": [
       "<catboost.core.CatBoostClassifier at 0x77a71956e7b0>"
      ]
     },
     "execution_count": 48,
     "metadata": {},
     "output_type": "execute_result"
    }
   ],
   "source": [
    "eruptive_cb.fit(\n",
    "    sub_X_train, sub_y_train_eruptive,\n",
    "    logging_level='Silent',\n",
    ")"
   ]
  },
  {
   "cell_type": "code",
   "execution_count": 49,
   "id": "396219b2-5244-4340-9ce8-2f94679a1007",
   "metadata": {},
   "outputs": [],
   "source": [
    "sub_y_pred_eruptive = eruptive_cb.predict(sub_X_test)"
   ]
  },
  {
   "cell_type": "code",
   "execution_count": 50,
   "id": "63e858ef-c236-47b0-8a3f-4fcacd08092f",
   "metadata": {},
   "outputs": [
    {
     "data": {
      "image/png": "[encoded data removed]",
      "text/plain": [
       "<Figure size 1600x1200 with 2 Axes>"
      ]
     },
     "metadata": {},
     "output_type": "display_data"
    }
   ],
   "source": [
    "cm = confusion_matrix(sub_y_test_eruptive, sub_y_pred_eruptive)\n",
    "sns.heatmap(cm, annot=True, fmt='d', cmap='Blues')\n",
    "plt.xlabel('Predicted')\n",
    "plt.ylabel('Actual')\n",
    "plt.title(f'Матрица ошибок')\n",
    "plt.show()"
   ]
  },
  {
   "cell_type": "markdown",
   "id": "563b99ae-2f08-4eb1-b61e-01a4d24194a3",
   "metadata": {},
   "source": [
    "попробуем задать значение класса eruptive, если eruptive_cb в этом уверен, и сменить предсказание, если не уверен"
   ]
  },
  {
   "cell_type": "code",
   "execution_count": 51,
   "id": "2d0e1028-c2b1-43ba-89d7-79e829ed7ad1",
   "metadata": {},
   "outputs": [],
   "source": [
    "proba_eruptive = eruptive_cb.predict_proba(sub_X_test)[:, 1] # предсказания детектора\n",
    "cb_preds = cb.predict(sub_X_test)[:, 0] # предсказания основной модели\n",
    "cb_proba = cb.predict_proba(sub_X_test) # предсказания основной модели в вероятностях\n",
    "\n",
    "sorted_indices = np.argsort(-cb_proba, axis=1)\n",
    "\n",
    "next_class_indices = sorted_indices[:, 1]\n",
    "\n",
    "combined_array = np.where( # см. текст выше\n",
    "    proba_eruptive > 0.7, \n",
    "    1,\n",
    "    np.where(\n",
    "        (proba_eruptive < 0.4) & (cb_preds == 1), \n",
    "        next_class_indices,\n",
    "        cb_preds\n",
    "    )\n",
    ")"
   ]
  },
  {
   "cell_type": "code",
   "execution_count": 52,
   "id": "1ecd8242-420a-4a84-a383-d11bbaaa68ed",
   "metadata": {},
   "outputs": [
    {
     "data": {
      "image/png": "[encoded data removed]",
      "text/plain": [
       "<Figure size 1600x1200 with 2 Axes>"
      ]
     },
     "metadata": {},
     "output_type": "display_data"
    }
   ],
   "source": [
    "cm = confusion_matrix(combined_array, sub_y_test)\n",
    "sns.heatmap(cm, annot=True, fmt='d', cmap='Blues')\n",
    "plt.xlabel('Predicted')\n",
    "plt.ylabel('Actual')\n",
    "plt.title(f'Матрица ошибок')\n",
    "plt.show()"
   ]
  },
  {
   "cell_type": "code",
   "execution_count": 53,
   "id": "831cf52e-7396-41cd-a966-01837421f865",
   "metadata": {},
   "outputs": [
    {
     "name": "stdout",
     "output_type": "stream",
     "text": [
      "              precision    recall  f1-score   support\n",
      "\n",
      "   ECLIPSING       0.96      0.92      0.94     18239\n",
      "    ERUPTIVE       0.55      0.58      0.57       613\n",
      "   PULSATING       0.92      0.93      0.93     20524\n",
      "    ROTATING       0.92      0.94      0.93     20625\n",
      "\n",
      "    accuracy                           0.93     60001\n",
      "   macro avg       0.84      0.84      0.84     60001\n",
      "weighted avg       0.93      0.93      0.93     60001\n",
      "\n"
     ]
    }
   ],
   "source": [
    "print(classification_report(combined_array, sub_y_test, target_names=[\"ECLIPSING\", \"ERUPTIVE\", \"PULSATING\", \"ROTATING\"]))"
   ]
  },
  {
   "cell_type": "markdown",
   "id": "4a6f5329-9a98-4f33-9513-bf0631f51d60",
   "metadata": {},
   "source": [
    "подобрав параметры \"уверенности\", был найден баланс между precision и recall"
   ]
  },
  {
   "cell_type": "markdown",
   "id": "6d51c52b-5e03-4fde-a0d4-7905f7afbbd6",
   "metadata": {},
   "source": [
    "обучим теперь на всей выборке:"
   ]
  },
  {
   "cell_type": "code",
   "execution_count": 73,
   "id": "0338b357-d22b-48d5-b4e0-95a6ffaa19d4",
   "metadata": {},
   "outputs": [],
   "source": [
    "X_train, X_test, y_train, y_test = train_test_split(\n",
    "    X, y,\n",
    "    stratify=y,\n",
    "    test_size=0.2,\n",
    "    random_state=42\n",
    ")"
   ]
  },
  {
   "cell_type": "code",
   "execution_count": 74,
   "id": "6e35c971-eab1-4800-895e-d79cc9d55ace",
   "metadata": {},
   "outputs": [
    {
     "name": "stdout",
     "output_type": "stream",
     "text": [
      "CPU times: user 3h 43min 8s, sys: 15min 26s, total: 3h 58min 35s\n",
      "Wall time: 19min 26s\n"
     ]
    },
    {
     "data": {
      "text/plain": [
       "<catboost.core.CatBoostClassifier at 0x77a719519760>"
      ]
     },
     "execution_count": 74,
     "metadata": {},
     "output_type": "execute_result"
    }
   ],
   "source": [
    "%%time\n",
    "cb = CatBoostClassifier(auto_class_weights='Balanced', eval_metric='TotalF1', random_state=42)\n",
    "cb.fit(\n",
    "    X_train, y_train,\n",
    "    logging_level='Silent',\n",
    ")"
   ]
  },
  {
   "cell_type": "code",
   "execution_count": 75,
   "id": "d5a29e51-6aae-496a-a3a7-e537b9e0654c",
   "metadata": {},
   "outputs": [],
   "source": [
    "y_train_eruptive = (y_train == 1).astype(int)\n",
    "y_test_eruptive = (y_test == 1).astype(int)\n",
    "y_eruptive = (y == 1).astype(int)"
   ]
  },
  {
   "cell_type": "code",
   "execution_count": 76,
   "id": "89e65eac-09de-4e1d-a340-4c4baef3d8ef",
   "metadata": {},
   "outputs": [],
   "source": [
    "eruptive_cb = CatBoostClassifier(\n",
    "    depth=9,\n",
    "    learning_rate=0.21556,\n",
    "    l2_leaf_reg=3.63233,\n",
    "    class_weights=[1, 16],\n",
    "    iterations=2062,\n",
    "    border_count=255,\n",
    "    random_strength=3.84679,\n",
    "    random_state=42\n",
    ")"
   ]
  },
  {
   "cell_type": "code",
   "execution_count": 77,
   "id": "0e3b3153-a971-4905-bca3-e298852c9f04",
   "metadata": {},
   "outputs": [
    {
     "name": "stdout",
     "output_type": "stream",
     "text": [
      "CPU times: user 4h 48min 21s, sys: 28min 56s, total: 5h 17min 18s\n",
      "Wall time: 23min 7s\n"
     ]
    },
    {
     "data": {
      "text/plain": [
       "<catboost.core.CatBoostClassifier at 0x77a6f64b8410>"
      ]
     },
     "execution_count": 77,
     "metadata": {},
     "output_type": "execute_result"
    }
   ],
   "source": [
    "%%time\n",
    "eruptive_cb.fit(\n",
    "    X_train, y_train_eruptive,\n",
    "    logging_level='Silent',\n",
    ")"
   ]
  },
  {
   "cell_type": "code",
   "execution_count": 99,
   "id": "cfd3de06-0097-4564-b3bf-9d233fee8619",
   "metadata": {},
   "outputs": [],
   "source": [
    "proba_eruptive = eruptive_cb.predict_proba(X_test)[:, 1]\n",
    "cb_preds = cb.predict(X_test)[:, 0]\n",
    "cb_proba = cb.predict_proba(X_test)\n",
    "\n",
    "sorted_indices = np.argsort(-cb_proba, axis=1)\n",
    "\n",
    "next_class_indices = sorted_indices[:, 1]\n",
    "\n",
    "combined_array = np.where(\n",
    "    proba_eruptive > 0.95, \n",
    "    1,\n",
    "    np.where(\n",
    "        (proba_eruptive < 0.6) & (cb_preds == 1), \n",
    "        next_class_indices,\n",
    "        cb_preds\n",
    "    )\n",
    ")"
   ]
  },
  {
   "cell_type": "code",
   "execution_count": 100,
   "id": "7c3f544b-c97c-42a2-855b-437a202cf8fb",
   "metadata": {},
   "outputs": [
    {
     "data": {
      "image/png": "[encoded data removed]",
      "text/plain": [
       "<Figure size 1600x1200 with 2 Axes>"
      ]
     },
     "metadata": {},
     "output_type": "display_data"
    }
   ],
   "source": [
    "cm = confusion_matrix(combined_array, y_test)\n",
    "sns.heatmap(cm, annot=True, fmt='d', cmap='Blues')\n",
    "plt.xlabel('Predicted')\n",
    "plt.ylabel('Actual')\n",
    "plt.title(f'Матрица ошибок')\n",
    "plt.show()"
   ]
  },
  {
   "cell_type": "code",
   "execution_count": 101,
   "id": "f17ba36a-6a84-4470-ab1b-756667d8e154",
   "metadata": {},
   "outputs": [
    {
     "name": "stdout",
     "output_type": "stream",
     "text": [
      "              precision    recall  f1-score   support\n",
      "\n",
      "   ECLIPSING       0.96      0.93      0.95    531922\n",
      "    ERUPTIVE       0.75      0.47      0.58     30257\n",
      "   PULSATING       0.92      0.94      0.93    600443\n",
      "    ROTATING       0.93      0.95      0.94    606003\n",
      "\n",
      "    accuracy                           0.93   1768625\n",
      "   macro avg       0.89      0.82      0.85   1768625\n",
      "weighted avg       0.93      0.93      0.93   1768625\n",
      "\n"
     ]
    }
   ],
   "source": [
    "print(classification_report(combined_array, y_test, target_names=[\"ECLIPSING\", \"ERUPTIVE\", \"PULSATING\", \"ROTATING\"]))"
   ]
  },
  {
   "cell_type": "code",
   "execution_count": null,
   "id": "b4896d97-7e5e-4f78-be6a-7135dadd3aa3",
   "metadata": {},
   "outputs": [],
   "source": []
  }
 ],
 "metadata": {
  "kernelspec": {
   "display_name": "Python 3 (ipykernel)",
   "language": "python",
   "name": "python3"
  },
  "language_info": {
   "codemirror_mode": {
    "name": "ipython",
    "version": 3
   },
   "file_extension": ".py",
   "mimetype": "text/x-python",
   "name": "python",
   "nbconvert_exporter": "python",
   "pygments_lexer": "ipython3",
   "version": "3.12.3"
  }
 },
 "nbformat": 4,
 "nbformat_minor": 5
}
