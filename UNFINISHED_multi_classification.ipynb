{
 "cells": [
  {
   "cell_type": "markdown",
   "id": "dd73bd3f-bec4-460a-9d99-4e84fa0accd2",
   "metadata": {},
   "source": [
    "## github рендерит ipynb с ошибками, поэтому используйте nbviewer:\n",
    "[https://nbviewer.org/github/StalSkyle/stars_classification/blob/main/UNFINISHED_multi_classification.ipynb?flush_cache=true](https://nbviewer.org/github/StalSkyle/stars_classification/blob/main/UNFINISHED_multi_classification.ipynb?flush_cache=true)"
   ]
  },
  {
   "cell_type": "code",
   "execution_count": 1,
   "id": "088658f6-846b-46f8-9224-895518759495",
   "metadata": {},
   "outputs": [
    {
     "name": "stdout",
     "output_type": "stream",
     "text": [
      "<class 'pandas.core.frame.DataFrame'>\n",
      "RangeIndex: 9750415 entries, 0 to 9750414\n",
      "Data columns (total 20 columns):\n",
      " #   Column    Dtype  \n",
      "---  ------    -----  \n",
      " 0   OID       int32  \n",
      " 1   n_OID     object \n",
      " 2   Name      object \n",
      " 3   V         uint8  \n",
      " 4   Type      object \n",
      " 5   l_max     object \n",
      " 6   max       float32\n",
      " 7   u_max     object \n",
      " 8   n_max     object \n",
      " 9   f_min     object \n",
      " 10  l_min     object \n",
      " 11  min       float32\n",
      " 12  u_min     object \n",
      " 13  n_min     object \n",
      " 14  l_Period  object \n",
      " 15  Period    float64\n",
      " 16  u_Period  object \n",
      " 17  Sp        object \n",
      " 18  RAJ2000   float64\n",
      " 19  DEJ2000   float64\n",
      "dtypes: float32(2), float64(3), int32(1), object(13), uint8(1)\n",
      "memory usage: 1.3+ GB\n"
     ]
    }
   ],
   "source": [
    "import pandas as pd\n",
    "import matplotlib.pyplot as plt\n",
    "import seaborn as sns\n",
    "from sklearn.preprocessing import LabelEncoder\n",
    "\n",
    "# ссылка на данные\n",
    "# https://drive.google.com/file/d/1wTkOoA222guACzvIJxLf4wU77Rykp1__/view?usp=sharing\n",
    "df = pd.read_parquet(\"./data/B_vsx_vsx.parquet\")\n",
    "pd.set_option(\"display.max_columns\", None)\n",
    "plt.rcParams[\"figure.figsize\"] = (16, 12)\n",
    "df.info()"
   ]
  },
  {
   "cell_type": "code",
   "execution_count": 2,
   "id": "b337a752-faf6-43c4-aadb-0d637aa52315",
   "metadata": {},
   "outputs": [],
   "source": [
    "def classify_type(vtype: str) -> str:\n",
    "    \"\"\"\n",
    "    Возвращает укрупнённый класс переменной звезды\n",
    "    в зависимости от содержимого строки vtype.\n",
    "    \"\"\"\n",
    "\n",
    "    if pd.isna(vtype) or not isinstance(vtype, str) or vtype.strip() == \"\":\n",
    "        return \"UNKNOWN\"\n",
    "\n",
    "    # Приведём к верхнему регистру для надёжного поиска подстрок\n",
    "    t = vtype.upper()\n",
    "\n",
    "    # --- 1) Затменные (Eclipsing Binaries) ---\n",
    "    ecl_markers = [\"EA\", \"EB\", \"EW\", \"EC\", \"ELL\", \"E/RS\", \"E|\", \"E \"]\n",
    "    if any(m in t for m in ecl_markers):\n",
    "        return \"ECLIPSING\"\n",
    "\n",
    "    # --- 2) Цефеиды и родственные (DCEP, CW, RV Tauri, ACEP) - пульсирующие\n",
    "    cep_markers = [\"DCEP\", \"CW-FU\", \"CW\", \"CWA\", \"CWB\", \"RVA\", \"RV\", \"ACEP\", \"CEP\"]\n",
    "    if any(m in t for m in cep_markers):\n",
    "        return \"PULSATING\"\n",
    "\n",
    "    # --- 3) RR Лиры (RRAB, RRC, RRD, RR...) - пульсирующие\n",
    "    rr_markers = [\"RRAB\", \"RRC\", \"RRD\", \"RR\"]\n",
    "    if any(m in t for m in rr_markers):\n",
    "        return \"PULSATING\"\n",
    "\n",
    "    # --- 4) Короткопериодические пульсаторы: DSCT, SXPHE, GDOR, roAp - пульсирующие\n",
    "    short_puls = [\"DSCT\", \"HADS\", \"SXPHE\", \"GDOR\", \"ROAP\", \"ROAM\"]\n",
    "    if any(m in t for m in short_puls):\n",
    "        return \"PULSATING\"\n",
    "\n",
    "    # --- 5) Долгопериодические и полуправильные (M, SR, L) - пульсирующие\n",
    "    lpv_markers = [\"MIRA\", \"SR\", \"SRA\", \"SRB\", \"SRC\", \"SRD\", \"L \", \"LB\", \"LC\", \"LPV\"]\n",
    "    if any(m in t for m in lpv_markers):\n",
    "        return \"PULSATING\"\n",
    "\n",
    "    # --- 6) Ротационные переменные (BY, RS, ACV, SPB, ROT, GCAS) ---\n",
    "    rot_markers = [\"BY\", \"RS\", \"ACV\", \"SPB\", \"ROT\", \"GCAS\"]\n",
    "    if any(m in t for m in rot_markers):\n",
    "        return \"ROTATING\"\n",
    "\n",
    "    # --- 7) Эруптивные/молодые звёзды (T Tauri, EXOR, UXOR, INS...) ---\n",
    "    yso_markers = [\"TTS\", \"EXOR\", \"UXOR\", \"INS\", \"IN\", \"INST\", \"CST\", \"DYP\", \"FSCM\", \"FUOR\", \"YSO\"]\n",
    "    if any(m in t for m in yso_markers):\n",
    "        return \"ERUPTIVE\"\n",
    "\n",
    "    # --- 8) Катаклизмические (UG, NL, AM, ZAND, IB, IS, ... ) ---\n",
    "    cataclysmic_markers = [\"UG\", \"NL\", \"AM\", \"ZAND\", \"IB\", \"ISB\", \"BE\", \"DPV\", \"EXOR\", \"FUOR\", \"PNB\"]  # и др.\n",
    "    if any(m in t for m in cataclysmic_markers):\n",
    "        return \"ERUPTIVE\"\n",
    "\n",
    "    if (t == \"E\"):\n",
    "        return \"ECLIPSING\"\n",
    "\n",
    "    if (t == \"L\"):\n",
    "        return \"PULSATING\"\n",
    "\n",
    "    # если ничего не подошло\n",
    "    return \"UNKNOWN\""
   ]
  },
  {
   "cell_type": "code",
   "execution_count": 3,
   "id": "52e82e5c-ffc9-4a5c-8fe5-f1d52d76de5d",
   "metadata": {},
   "outputs": [
    {
     "name": "stdout",
     "output_type": "stream",
     "text": [
      "class\n",
      "ROTATING     3102285\n",
      "PULSATING    3089412\n",
      "ECLIPSING    2568649\n",
      "UNKNOWN       892890\n",
      "ERUPTIVE       97179\n",
      "Name: count, dtype: int64\n"
     ]
    }
   ],
   "source": [
    "# целевая переменная:\n",
    "df[\"class\"] = df[\"Type\"].apply(classify_type)\n",
    "\n",
    "# в датасете очень мало эруптивных звезд\n",
    "print(df[\"class\"].value_counts())"
   ]
  },
  {
   "cell_type": "code",
   "execution_count": 4,
   "id": "1f40e384-42ea-46de-9c00-323c370d8c11",
   "metadata": {},
   "outputs": [
    {
     "data": {
      "text/html": [
       "<div>\n",
       "<style scoped>\n",
       "    .dataframe tbody tr th:only-of-type {\n",
       "        vertical-align: middle;\n",
       "    }\n",
       "\n",
       "    .dataframe tbody tr th {\n",
       "        vertical-align: top;\n",
       "    }\n",
       "\n",
       "    .dataframe thead th {\n",
       "        text-align: right;\n",
       "    }\n",
       "</style>\n",
       "<table border=\"1\" class=\"dataframe\">\n",
       "  <thead>\n",
       "    <tr style=\"text-align: right;\">\n",
       "      <th></th>\n",
       "      <th>OID</th>\n",
       "      <th>n_OID</th>\n",
       "      <th>Name</th>\n",
       "      <th>V</th>\n",
       "      <th>l_max</th>\n",
       "      <th>max</th>\n",
       "      <th>u_max</th>\n",
       "      <th>n_max</th>\n",
       "      <th>f_min</th>\n",
       "      <th>l_min</th>\n",
       "      <th>min</th>\n",
       "      <th>u_min</th>\n",
       "      <th>n_min</th>\n",
       "      <th>l_Period</th>\n",
       "      <th>Period</th>\n",
       "      <th>u_Period</th>\n",
       "      <th>Sp</th>\n",
       "      <th>RAJ2000</th>\n",
       "      <th>DEJ2000</th>\n",
       "      <th>class</th>\n",
       "    </tr>\n",
       "  </thead>\n",
       "  <tbody>\n",
       "    <tr>\n",
       "      <th>0</th>\n",
       "      <td>8278100</td>\n",
       "      <td></td>\n",
       "      <td>Gaia DR3 4685168858707787776</td>\n",
       "      <td>0</td>\n",
       "      <td></td>\n",
       "      <td>16.59</td>\n",
       "      <td></td>\n",
       "      <td>G</td>\n",
       "      <td></td>\n",
       "      <td></td>\n",
       "      <td>17.740000</td>\n",
       "      <td></td>\n",
       "      <td>G</td>\n",
       "      <td></td>\n",
       "      <td>NaN</td>\n",
       "      <td></td>\n",
       "      <td>K</td>\n",
       "      <td>0.00006</td>\n",
       "      <td>-75.86906</td>\n",
       "      <td>PULSATING</td>\n",
       "    </tr>\n",
       "    <tr>\n",
       "      <th>1</th>\n",
       "      <td>2535232</td>\n",
       "      <td></td>\n",
       "      <td>Gaia DR3 2881873169572728832</td>\n",
       "      <td>0</td>\n",
       "      <td></td>\n",
       "      <td>16.59</td>\n",
       "      <td></td>\n",
       "      <td>G</td>\n",
       "      <td></td>\n",
       "      <td></td>\n",
       "      <td>16.639999</td>\n",
       "      <td></td>\n",
       "      <td>G</td>\n",
       "      <td></td>\n",
       "      <td>2.35407</td>\n",
       "      <td></td>\n",
       "      <td>G</td>\n",
       "      <td>0.00013</td>\n",
       "      <td>39.89248</td>\n",
       "      <td>ROTATING</td>\n",
       "    </tr>\n",
       "    <tr>\n",
       "      <th>2</th>\n",
       "      <td>2535233</td>\n",
       "      <td></td>\n",
       "      <td>Gaia DR3 4918216945285915648</td>\n",
       "      <td>0</td>\n",
       "      <td></td>\n",
       "      <td>17.07</td>\n",
       "      <td></td>\n",
       "      <td>G</td>\n",
       "      <td></td>\n",
       "      <td></td>\n",
       "      <td>17.600000</td>\n",
       "      <td></td>\n",
       "      <td>G</td>\n",
       "      <td></td>\n",
       "      <td>NaN</td>\n",
       "      <td></td>\n",
       "      <td>F</td>\n",
       "      <td>0.00019</td>\n",
       "      <td>-59.55921</td>\n",
       "      <td>PULSATING</td>\n",
       "    </tr>\n",
       "    <tr>\n",
       "      <th>3</th>\n",
       "      <td>2535234</td>\n",
       "      <td></td>\n",
       "      <td>Gaia DR3 566749663745310848</td>\n",
       "      <td>0</td>\n",
       "      <td></td>\n",
       "      <td>15.57</td>\n",
       "      <td></td>\n",
       "      <td>G</td>\n",
       "      <td></td>\n",
       "      <td></td>\n",
       "      <td>15.620000</td>\n",
       "      <td></td>\n",
       "      <td>G</td>\n",
       "      <td></td>\n",
       "      <td>NaN</td>\n",
       "      <td></td>\n",
       "      <td>K</td>\n",
       "      <td>0.00038</td>\n",
       "      <td>81.91627</td>\n",
       "      <td>ROTATING</td>\n",
       "    </tr>\n",
       "    <tr>\n",
       "      <th>4</th>\n",
       "      <td>2535235</td>\n",
       "      <td></td>\n",
       "      <td>Gaia DR3 430093700005970048</td>\n",
       "      <td>0</td>\n",
       "      <td></td>\n",
       "      <td>14.50</td>\n",
       "      <td></td>\n",
       "      <td>G</td>\n",
       "      <td></td>\n",
       "      <td></td>\n",
       "      <td>14.530000</td>\n",
       "      <td></td>\n",
       "      <td>G</td>\n",
       "      <td></td>\n",
       "      <td>NaN</td>\n",
       "      <td></td>\n",
       "      <td>F</td>\n",
       "      <td>0.00043</td>\n",
       "      <td>63.43314</td>\n",
       "      <td>ROTATING</td>\n",
       "    </tr>\n",
       "  </tbody>\n",
       "</table>\n",
       "</div>"
      ],
      "text/plain": [
       "       OID n_OID                          Name  V l_max    max u_max n_max  \\\n",
       "0  8278100        Gaia DR3 4685168858707787776  0        16.59           G   \n",
       "1  2535232        Gaia DR3 2881873169572728832  0        16.59           G   \n",
       "2  2535233        Gaia DR3 4918216945285915648  0        17.07           G   \n",
       "3  2535234         Gaia DR3 566749663745310848  0        15.57           G   \n",
       "4  2535235         Gaia DR3 430093700005970048  0        14.50           G   \n",
       "\n",
       "  f_min l_min        min u_min n_min l_Period   Period u_Period Sp  RAJ2000  \\\n",
       "0              17.740000           G               NaN           K  0.00006   \n",
       "1              16.639999           G           2.35407           G  0.00013   \n",
       "2              17.600000           G               NaN           F  0.00019   \n",
       "3              15.620000           G               NaN           K  0.00038   \n",
       "4              14.530000           G               NaN           F  0.00043   \n",
       "\n",
       "    DEJ2000      class  \n",
       "0 -75.86906  PULSATING  \n",
       "1  39.89248   ROTATING  \n",
       "2 -59.55921  PULSATING  \n",
       "3  81.91627   ROTATING  \n",
       "4  63.43314   ROTATING  "
      ]
     },
     "execution_count": 4,
     "metadata": {},
     "output_type": "execute_result"
    }
   ],
   "source": [
    "df = df[df[\"class\"] != \"UNKNOWN\"]\n",
    "df.drop(\"Type\", inplace=True, axis=1)\n",
    "df.head()"
   ]
  },
  {
   "cell_type": "code",
   "execution_count": 5,
   "id": "47a9dde2-782f-4ebf-a166-d6fbab7fd56e",
   "metadata": {},
   "outputs": [
    {
     "data": {
      "text/plain": [
       "OID               0\n",
       "n_OID             0\n",
       "Name              0\n",
       "V                 0\n",
       "l_max             0\n",
       "max             443\n",
       "u_max             0\n",
       "n_max             0\n",
       "f_min             0\n",
       "l_min             0\n",
       "min           13462\n",
       "u_min             0\n",
       "n_min             0\n",
       "l_Period          0\n",
       "Period      4593132\n",
       "u_Period          0\n",
       "Sp                0\n",
       "RAJ2000           0\n",
       "DEJ2000           0\n",
       "class             0\n",
       "dtype: int64"
      ]
     },
     "execution_count": 5,
     "metadata": {},
     "output_type": "execute_result"
    }
   ],
   "source": [
    "df.isnull().sum()"
   ]
  },
  {
   "cell_type": "code",
   "execution_count": 6,
   "id": "4414c321-73a2-4ced-a26a-d1cd4afd60cc",
   "metadata": {},
   "outputs": [],
   "source": [
    "# несодержательные признаки\n",
    "df.drop([\"l_max\", \"u_max\", \"l_min\", \"u_min\", \"l_Period\", \"u_Period\", \"OID\", \"n_OID\", \"V\"], inplace=True, axis=1)\n",
    "# вряд ли нам понадобятся координаты\n",
    "df.drop([\"RAJ2000\", \"DEJ2000\"], inplace=True, axis=1)"
   ]
  },
  {
   "cell_type": "code",
   "execution_count": 7,
   "id": "01658c2c-2e7e-4689-8cc0-715280a48746",
   "metadata": {},
   "outputs": [],
   "source": [
    "# попробуем извлечь новые признаки из колонки name\n",
    "df[\"Name\"] = df[\"Name\"].str.split().str[0]"
   ]
  },
  {
   "cell_type": "code",
   "execution_count": 8,
   "id": "de92d64a-87ba-4d09-a348-0b28f1aaa4c5",
   "metadata": {},
   "outputs": [],
   "source": [
    "counts = df[\"Name\"].value_counts()\n",
    "common_types = counts[counts > 1000].index  # часто встречающиеся типы\n",
    "df[\"Name\"] = df[\"Name\"].apply(lambda x: x if x in common_types else \"err\")"
   ]
  },
  {
   "cell_type": "code",
   "execution_count": 9,
   "id": "1966704c-e9c6-43d4-80b3-72d5a22052e7",
   "metadata": {},
   "outputs": [
    {
     "data": {
      "text/plain": [
       "Name\n",
       "Gaia         6875067\n",
       "err           856116\n",
       "ZTF           649501\n",
       "ASASSN-V      312531\n",
       "KIC            34633\n",
       "PS1-3PI        29261\n",
       "WISE           22634\n",
       "ASAS           18788\n",
       "NSVS            8567\n",
       "MACHO           5744\n",
       "NSV             4969\n",
       "OGLE            4078\n",
       "LINEAR          3991\n",
       "KID             3947\n",
       "[CAG2000]       2905\n",
       "HAT             2877\n",
       "2MASS           2842\n",
       "LMC             2578\n",
       "CoRoT           2349\n",
       "NGC             2271\n",
       "EPIC            1953\n",
       "SEKBO           1885\n",
       "GSC             1844\n",
       "HD              1734\n",
       "BESTII          1414\n",
       "SDSS            1019\n",
       "[MAA2010]       1015\n",
       "[H97b]          1012\n",
       "Name: count, dtype: int64"
      ]
     },
     "execution_count": 9,
     "metadata": {},
     "output_type": "execute_result"
    }
   ],
   "source": [
    "df[\"Name\"].value_counts() # возможно, затем придётся что-то делать с err"
   ]
  },
  {
   "cell_type": "code",
   "execution_count": 10,
   "id": "b61b73d5-5723-4264-bb2d-becea874534a",
   "metadata": {},
   "outputs": [],
   "source": [
    "# а пока что применим label encoder\n",
    "\n",
    "le = LabelEncoder()\n",
    "df[\"Name\"] = le.fit_transform(df[\"Name\"])"
   ]
  },
  {
   "cell_type": "code",
   "execution_count": 11,
   "id": "6eff781f-b1c4-4e41-96ae-97f173d125ce",
   "metadata": {},
   "outputs": [
    {
     "data": {
      "text/plain": [
       "(8857525, 9)"
      ]
     },
     "execution_count": 11,
     "metadata": {},
     "output_type": "execute_result"
    }
   ],
   "source": [
    "df.shape"
   ]
  },
  {
   "cell_type": "code",
   "execution_count": 12,
   "id": "c7404d04-d99c-4a9c-bdb6-fa07c043a34b",
   "metadata": {},
   "outputs": [
    {
     "data": {
      "text/plain": [
       "class\n",
       "ECLIPSING    2509828\n",
       "PULSATING    1017772\n",
       "ROTATING      734431\n",
       "ERUPTIVE        2362\n",
       "Name: count, dtype: int64"
      ]
     },
     "execution_count": 12,
     "metadata": {},
     "output_type": "execute_result"
    }
   ],
   "source": [
    "# теперь перед нами моральный выбор: дропнуть period, или дропнуть строки, в которых period nan\n",
    "df[df[\"Period\"].notna()][\"class\"].value_counts()"
   ]
  },
  {
   "cell_type": "markdown",
   "id": "6ba2a6d7-98a0-495b-8d0c-3b1bdd48405b",
   "metadata": {},
   "source": [
    "У эруптивных звёзд *нет периода*, поэтому этот признак является очень важным для их определения.\n",
    "Попробуем создать новый признак *has_period*$ у звёзд, у которого нет периода, зададим его значение как 0"
   ]
  },
  {
   "cell_type": "code",
   "execution_count": 13,
   "id": "1595c3e9-d7bc-42a5-a23d-35278c5f0050",
   "metadata": {},
   "outputs": [
    {
     "data": {
      "text/html": [
       "<div>\n",
       "<style scoped>\n",
       "    .dataframe tbody tr th:only-of-type {\n",
       "        vertical-align: middle;\n",
       "    }\n",
       "\n",
       "    .dataframe tbody tr th {\n",
       "        vertical-align: top;\n",
       "    }\n",
       "\n",
       "    .dataframe thead th {\n",
       "        text-align: right;\n",
       "    }\n",
       "</style>\n",
       "<table border=\"1\" class=\"dataframe\">\n",
       "  <thead>\n",
       "    <tr style=\"text-align: right;\">\n",
       "      <th></th>\n",
       "      <th>Name</th>\n",
       "      <th>max</th>\n",
       "      <th>n_max</th>\n",
       "      <th>f_min</th>\n",
       "      <th>min</th>\n",
       "      <th>n_min</th>\n",
       "      <th>Period</th>\n",
       "      <th>Sp</th>\n",
       "      <th>has_period</th>\n",
       "      <th>class</th>\n",
       "    </tr>\n",
       "  </thead>\n",
       "  <tbody>\n",
       "    <tr>\n",
       "      <th>0</th>\n",
       "      <td>7</td>\n",
       "      <td>16.59</td>\n",
       "      <td>G</td>\n",
       "      <td></td>\n",
       "      <td>17.740000</td>\n",
       "      <td>G</td>\n",
       "      <td>0.00000</td>\n",
       "      <td>K</td>\n",
       "      <td>0</td>\n",
       "      <td>PULSATING</td>\n",
       "    </tr>\n",
       "    <tr>\n",
       "      <th>1</th>\n",
       "      <td>7</td>\n",
       "      <td>16.59</td>\n",
       "      <td>G</td>\n",
       "      <td></td>\n",
       "      <td>16.639999</td>\n",
       "      <td>G</td>\n",
       "      <td>2.35407</td>\n",
       "      <td>G</td>\n",
       "      <td>1</td>\n",
       "      <td>ROTATING</td>\n",
       "    </tr>\n",
       "    <tr>\n",
       "      <th>2</th>\n",
       "      <td>7</td>\n",
       "      <td>17.07</td>\n",
       "      <td>G</td>\n",
       "      <td></td>\n",
       "      <td>17.600000</td>\n",
       "      <td>G</td>\n",
       "      <td>0.00000</td>\n",
       "      <td>F</td>\n",
       "      <td>0</td>\n",
       "      <td>PULSATING</td>\n",
       "    </tr>\n",
       "    <tr>\n",
       "      <th>3</th>\n",
       "      <td>7</td>\n",
       "      <td>15.57</td>\n",
       "      <td>G</td>\n",
       "      <td></td>\n",
       "      <td>15.620000</td>\n",
       "      <td>G</td>\n",
       "      <td>0.00000</td>\n",
       "      <td>K</td>\n",
       "      <td>0</td>\n",
       "      <td>ROTATING</td>\n",
       "    </tr>\n",
       "    <tr>\n",
       "      <th>4</th>\n",
       "      <td>7</td>\n",
       "      <td>14.50</td>\n",
       "      <td>G</td>\n",
       "      <td></td>\n",
       "      <td>14.530000</td>\n",
       "      <td>G</td>\n",
       "      <td>0.00000</td>\n",
       "      <td>F</td>\n",
       "      <td>0</td>\n",
       "      <td>ROTATING</td>\n",
       "    </tr>\n",
       "  </tbody>\n",
       "</table>\n",
       "</div>"
      ],
      "text/plain": [
       "   Name    max n_max f_min        min n_min   Period Sp  has_period      class\n",
       "0     7  16.59     G        17.740000     G  0.00000  K           0  PULSATING\n",
       "1     7  16.59     G        16.639999     G  2.35407  G           1   ROTATING\n",
       "2     7  17.07     G        17.600000     G  0.00000  F           0  PULSATING\n",
       "3     7  15.57     G        15.620000     G  0.00000  K           0   ROTATING\n",
       "4     7  14.50     G        14.530000     G  0.00000  F           0   ROTATING"
      ]
     },
     "execution_count": 13,
     "metadata": {},
     "output_type": "execute_result"
    }
   ],
   "source": [
    "df[\"has_period\"] = df[\"Period\"].apply(lambda x: 1 if pd.notna(x) else 0)\n",
    "df[\"Period\"] = df[\"Period\"].fillna(0)\n",
    "\n",
    "# поместим в df признак has_period после period\n",
    "col = df.pop(\"has_period\")\n",
    "df.insert(8, \"has_period\", col)\n",
    "df.head()"
   ]
  },
  {
   "cell_type": "code",
   "execution_count": 14,
   "id": "fc8e64a7-d933-4a23-a1c4-a2da66db5434",
   "metadata": {},
   "outputs": [
    {
     "data": {
      "text/plain": [
       "f_min\n",
       "     7165690\n",
       "Y    1691835\n",
       "Name: count, dtype: int64"
      ]
     },
     "execution_count": 14,
     "metadata": {},
     "output_type": "execute_result"
    }
   ],
   "source": [
    "df[\"f_min\"].value_counts()"
   ]
  },
  {
   "cell_type": "code",
   "execution_count": 15,
   "id": "515c744a-a893-4ac3-b6e3-03daf6eaeea5",
   "metadata": {},
   "outputs": [
    {
     "data": {
      "text/plain": [
       "f_min\n",
       "0    7165690\n",
       "1    1691835\n",
       "Name: count, dtype: int64"
      ]
     },
     "execution_count": 15,
     "metadata": {},
     "output_type": "execute_result"
    }
   ],
   "source": [
    "df[\"f_min\"] = df[\"f_min\"].apply(lambda x: 1 if x == \"Y\" else 0)\n",
    "df[\"f_min\"].value_counts()"
   ]
  },
  {
   "cell_type": "code",
   "execution_count": 16,
   "id": "68e318c6-14d3-43f3-b467-bcc881083df8",
   "metadata": {},
   "outputs": [
    {
     "data": {
      "text/html": [
       "<div>\n",
       "<style scoped>\n",
       "    .dataframe tbody tr th:only-of-type {\n",
       "        vertical-align: middle;\n",
       "    }\n",
       "\n",
       "    .dataframe tbody tr th {\n",
       "        vertical-align: top;\n",
       "    }\n",
       "\n",
       "    .dataframe thead th {\n",
       "        text-align: right;\n",
       "    }\n",
       "</style>\n",
       "<table border=\"1\" class=\"dataframe\">\n",
       "  <thead>\n",
       "    <tr style=\"text-align: right;\">\n",
       "      <th></th>\n",
       "      <th>Name</th>\n",
       "      <th>max</th>\n",
       "      <th>n_max</th>\n",
       "      <th>f_min</th>\n",
       "      <th>min</th>\n",
       "      <th>n_min</th>\n",
       "      <th>Period</th>\n",
       "      <th>Sp</th>\n",
       "      <th>has_period</th>\n",
       "      <th>class</th>\n",
       "    </tr>\n",
       "  </thead>\n",
       "  <tbody>\n",
       "    <tr>\n",
       "      <th>0</th>\n",
       "      <td>7</td>\n",
       "      <td>16.59</td>\n",
       "      <td>G</td>\n",
       "      <td>0</td>\n",
       "      <td>17.740000</td>\n",
       "      <td>G</td>\n",
       "      <td>0.00000</td>\n",
       "      <td>K</td>\n",
       "      <td>0</td>\n",
       "      <td>PULSATING</td>\n",
       "    </tr>\n",
       "    <tr>\n",
       "      <th>1</th>\n",
       "      <td>7</td>\n",
       "      <td>16.59</td>\n",
       "      <td>G</td>\n",
       "      <td>0</td>\n",
       "      <td>16.639999</td>\n",
       "      <td>G</td>\n",
       "      <td>2.35407</td>\n",
       "      <td>G</td>\n",
       "      <td>1</td>\n",
       "      <td>ROTATING</td>\n",
       "    </tr>\n",
       "    <tr>\n",
       "      <th>2</th>\n",
       "      <td>7</td>\n",
       "      <td>17.07</td>\n",
       "      <td>G</td>\n",
       "      <td>0</td>\n",
       "      <td>17.600000</td>\n",
       "      <td>G</td>\n",
       "      <td>0.00000</td>\n",
       "      <td>F</td>\n",
       "      <td>0</td>\n",
       "      <td>PULSATING</td>\n",
       "    </tr>\n",
       "    <tr>\n",
       "      <th>3</th>\n",
       "      <td>7</td>\n",
       "      <td>15.57</td>\n",
       "      <td>G</td>\n",
       "      <td>0</td>\n",
       "      <td>15.620000</td>\n",
       "      <td>G</td>\n",
       "      <td>0.00000</td>\n",
       "      <td>K</td>\n",
       "      <td>0</td>\n",
       "      <td>ROTATING</td>\n",
       "    </tr>\n",
       "    <tr>\n",
       "      <th>4</th>\n",
       "      <td>7</td>\n",
       "      <td>14.50</td>\n",
       "      <td>G</td>\n",
       "      <td>0</td>\n",
       "      <td>14.530000</td>\n",
       "      <td>G</td>\n",
       "      <td>0.00000</td>\n",
       "      <td>F</td>\n",
       "      <td>0</td>\n",
       "      <td>ROTATING</td>\n",
       "    </tr>\n",
       "  </tbody>\n",
       "</table>\n",
       "</div>"
      ],
      "text/plain": [
       "   Name    max n_max  f_min        min n_min   Period Sp  has_period  \\\n",
       "0     7  16.59     G      0  17.740000     G  0.00000  K           0   \n",
       "1     7  16.59     G      0  16.639999     G  2.35407  G           1   \n",
       "2     7  17.07     G      0  17.600000     G  0.00000  F           0   \n",
       "3     7  15.57     G      0  15.620000     G  0.00000  K           0   \n",
       "4     7  14.50     G      0  14.530000     G  0.00000  F           0   \n",
       "\n",
       "       class  \n",
       "0  PULSATING  \n",
       "1   ROTATING  \n",
       "2  PULSATING  \n",
       "3   ROTATING  \n",
       "4   ROTATING  "
      ]
     },
     "execution_count": 16,
     "metadata": {},
     "output_type": "execute_result"
    }
   ],
   "source": [
    "df.head()"
   ]
  },
  {
   "cell_type": "code",
   "execution_count": 17,
   "id": "de88d428-8148-42d8-a2ad-f8e31a5bf875",
   "metadata": {},
   "outputs": [],
   "source": [
    "# всего 443 звезды не имеют признака max, поэтому дропнем их\n",
    "df = df[df[\"max\"].notna()]\n",
    "\n",
    "# аналогично с min\n",
    "df = df[df[\"min\"].notna()]"
   ]
  },
  {
   "cell_type": "code",
   "execution_count": 18,
   "id": "7e3bb945-fcb0-4201-b5f0-69805f8c2b2f",
   "metadata": {},
   "outputs": [
    {
     "name": "stdout",
     "output_type": "stream",
     "text": [
      "8805306 нередкие с nan\n",
      "4514800 нередкие без nan\n"
     ]
    }
   ],
   "source": [
    "counts = df[\"Sp\"].value_counts()\n",
    "common_types = counts[counts > 1000].index.to_list()\n",
    "print(len(df[df[\"Sp\"].isin(common_types)]), \"нередкие с nan\")\n",
    "common_types.remove(\"\")\n",
    "print(len(df[df[\"Sp\"].isin(common_types)]), \"нередкие без nan\")"
   ]
  },
  {
   "cell_type": "code",
   "execution_count": 19,
   "id": "833c5ada-b1d4-46f8-85c0-ce6b6f276132",
   "metadata": {},
   "outputs": [],
   "source": [
    "# пусть редкий признак будет закодирован как \"rare\", а отсутствие признака - как \"no\"\n",
    "df[\"Sp\"] = df[\"Sp\"].replace(\"\", \"none\")\n",
    "df[\"Sp\"] = df[\"Sp\"].apply(lambda x: \"rare\" if x not in common_types + [\"none\"] else x)"
   ]
  },
  {
   "cell_type": "code",
   "execution_count": 20,
   "id": "cc0de297-b9ff-48c5-bfba-9b2c24d85297",
   "metadata": {},
   "outputs": [
    {
     "data": {
      "text/plain": [
       "Sp\n",
       "none    4290506\n",
       "K       1606290\n",
       "M        871682\n",
       "F        736688\n",
       "G        711373\n",
       "A        421088\n",
       "B        120353\n",
       "rare      38505\n",
       "O         28113\n",
       "C         15756\n",
       "F0         1315\n",
       "em         1123\n",
       "G7         1019\n",
       "Name: count, dtype: int64"
      ]
     },
     "execution_count": 20,
     "metadata": {},
     "output_type": "execute_result"
    }
   ],
   "source": [
    "df[\"Sp\"].value_counts()"
   ]
  },
  {
   "cell_type": "code",
   "execution_count": 21,
   "id": "486fce12-56da-4a51-82c4-7fe159537c0c",
   "metadata": {},
   "outputs": [
    {
     "data": {
      "text/html": [
       "<div>\n",
       "<style scoped>\n",
       "    .dataframe tbody tr th:only-of-type {\n",
       "        vertical-align: middle;\n",
       "    }\n",
       "\n",
       "    .dataframe tbody tr th {\n",
       "        vertical-align: top;\n",
       "    }\n",
       "\n",
       "    .dataframe thead th {\n",
       "        text-align: right;\n",
       "    }\n",
       "</style>\n",
       "<table border=\"1\" class=\"dataframe\">\n",
       "  <thead>\n",
       "    <tr style=\"text-align: right;\">\n",
       "      <th></th>\n",
       "      <th>Name</th>\n",
       "      <th>max</th>\n",
       "      <th>n_max</th>\n",
       "      <th>f_min</th>\n",
       "      <th>min</th>\n",
       "      <th>n_min</th>\n",
       "      <th>Period</th>\n",
       "      <th>Sp</th>\n",
       "      <th>has_period</th>\n",
       "      <th>class</th>\n",
       "    </tr>\n",
       "  </thead>\n",
       "  <tbody>\n",
       "    <tr>\n",
       "      <th>0</th>\n",
       "      <td>7</td>\n",
       "      <td>16.59</td>\n",
       "      <td>G</td>\n",
       "      <td>0</td>\n",
       "      <td>17.740000</td>\n",
       "      <td>G</td>\n",
       "      <td>0.00000</td>\n",
       "      <td>K</td>\n",
       "      <td>0</td>\n",
       "      <td>PULSATING</td>\n",
       "    </tr>\n",
       "    <tr>\n",
       "      <th>1</th>\n",
       "      <td>7</td>\n",
       "      <td>16.59</td>\n",
       "      <td>G</td>\n",
       "      <td>0</td>\n",
       "      <td>16.639999</td>\n",
       "      <td>G</td>\n",
       "      <td>2.35407</td>\n",
       "      <td>G</td>\n",
       "      <td>1</td>\n",
       "      <td>ROTATING</td>\n",
       "    </tr>\n",
       "    <tr>\n",
       "      <th>2</th>\n",
       "      <td>7</td>\n",
       "      <td>17.07</td>\n",
       "      <td>G</td>\n",
       "      <td>0</td>\n",
       "      <td>17.600000</td>\n",
       "      <td>G</td>\n",
       "      <td>0.00000</td>\n",
       "      <td>F</td>\n",
       "      <td>0</td>\n",
       "      <td>PULSATING</td>\n",
       "    </tr>\n",
       "    <tr>\n",
       "      <th>3</th>\n",
       "      <td>7</td>\n",
       "      <td>15.57</td>\n",
       "      <td>G</td>\n",
       "      <td>0</td>\n",
       "      <td>15.620000</td>\n",
       "      <td>G</td>\n",
       "      <td>0.00000</td>\n",
       "      <td>K</td>\n",
       "      <td>0</td>\n",
       "      <td>ROTATING</td>\n",
       "    </tr>\n",
       "    <tr>\n",
       "      <th>4</th>\n",
       "      <td>7</td>\n",
       "      <td>14.50</td>\n",
       "      <td>G</td>\n",
       "      <td>0</td>\n",
       "      <td>14.530000</td>\n",
       "      <td>G</td>\n",
       "      <td>0.00000</td>\n",
       "      <td>F</td>\n",
       "      <td>0</td>\n",
       "      <td>ROTATING</td>\n",
       "    </tr>\n",
       "  </tbody>\n",
       "</table>\n",
       "</div>"
      ],
      "text/plain": [
       "   Name    max n_max  f_min        min n_min   Period Sp  has_period  \\\n",
       "0     7  16.59     G      0  17.740000     G  0.00000  K           0   \n",
       "1     7  16.59     G      0  16.639999     G  2.35407  G           1   \n",
       "2     7  17.07     G      0  17.600000     G  0.00000  F           0   \n",
       "3     7  15.57     G      0  15.620000     G  0.00000  K           0   \n",
       "4     7  14.50     G      0  14.530000     G  0.00000  F           0   \n",
       "\n",
       "       class  \n",
       "0  PULSATING  \n",
       "1   ROTATING  \n",
       "2  PULSATING  \n",
       "3   ROTATING  \n",
       "4   ROTATING  "
      ]
     },
     "execution_count": 21,
     "metadata": {},
     "output_type": "execute_result"
    }
   ],
   "source": [
    "df.head()"
   ]
  },
  {
   "cell_type": "code",
   "execution_count": 30,
   "id": "c96d1e3d-0c3a-4833-8ad4-5a872a25cd30",
   "metadata": {},
   "outputs": [
    {
     "name": "stdout",
     "output_type": "stream",
     "text": [
      "688\n"
     ]
    },
    {
     "data": {
      "text/plain": [
       "(8843811, 10)"
      ]
     },
     "execution_count": 30,
     "metadata": {},
     "output_type": "execute_result"
    }
   ],
   "source": [
    "# разберемся с n_max\n",
    "# сделаем то же самое, что и с Sp\n",
    "print(len(df[df[\"n_max\"] == \"\"])) # всего 688 значений, можем смело дропать\n",
    "df.shape"
   ]
  },
  {
   "cell_type": "code",
   "execution_count": null,
   "id": "989a45a0-191b-4d7c-8b05-1e86bb433c60",
   "metadata": {},
   "outputs": [],
   "source": []
  }
 ],
 "metadata": {
  "kernelspec": {
   "display_name": "Python 3 (ipykernel)",
   "language": "python",
   "name": "python3"
  },
  "language_info": {
   "codemirror_mode": {
    "name": "ipython",
    "version": 3
   },
   "file_extension": ".py",
   "mimetype": "text/x-python",
   "name": "python",
   "nbconvert_exporter": "python",
   "pygments_lexer": "ipython3",
   "version": "3.12.3"
  }
 },
 "nbformat": 4,
 "nbformat_minor": 5
}
